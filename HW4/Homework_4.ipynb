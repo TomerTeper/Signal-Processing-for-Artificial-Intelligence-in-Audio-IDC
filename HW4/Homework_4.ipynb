{
  "cells": [
    {
      "cell_type": "markdown",
      "metadata": {
        "id": "eK-fy4cmWYD1"
      },
      "source": [
        "# Overview\n",
        "### Due Jan 25th\n",
        "\n",
        "### GAN, chroma (MIDI) and pix2pix\n",
        "\n",
        "Instructions:\n",
        "\n",
        "* This notebook is an interactive assignment; please read and follow the instructions in each cell.\n",
        "\n",
        "* Cells that require your input (in the form of code or written response) will have 'Question #' above.\n",
        "\n",
        "* After completing the assignment, please submit this notebook and printout as a PDF.\n"
      ]
    },
    {
      "cell_type": "markdown",
      "metadata": {
        "id": "2mUtlgRDWYD3"
      },
      "source": [
        "In this notebook we explore a style transfer application that tries to change the musical texture of a piece while maintaining the harmonic structure. In order to do so we train a pix2pix type of model that learns the relations between chroma and the musical texture (distribution of notes). For this purpose we extract chroma from MIDI data and learn a generator that complements the notes from a given texture. You can think about this as something similar to pix2pix that learns completion of image textures from a sketch. In the image GAN the contours for training are generated using an edge detection on a complete image. You can read more about the history of Midi formats at https://cecm.indiana.edu/361/midi.html#:~:text=MIDI%20is%20an%20acronym%20that,each%20other%2C%20using%20MIDI%20messages."
      ]
    },
    {
      "cell_type": "markdown",
      "metadata": {
        "id": "vXqiXvjmGkVv"
      },
      "source": [
        "# 1. Imports and Loading Data\n",
        "Before running, please download the files from https://drive.google.com/drive/folders/1B3WpC9hRH4W6yzh7gahFAZodw1lP4aaM?usp=share_link make sure to upload the following to your python directory\n",
        "- reverse_pianoroll.py\n",
        "- convert.py\n",
        "- Classical_Music_Midi.zip and unzip it"
      ]
    },
    {
      "cell_type": "code",
      "execution_count": null,
      "metadata": {
        "colab": {
          "base_uri": "https://localhost:8080/"
        },
        "id": "o8ztrskPi2TJ",
        "outputId": "02f0bd8d-273a-450b-97bf-717275abff1c"
      },
      "outputs": [
        {
          "name": "stdout",
          "output_type": "stream",
          "text": [
            "Archive:  /content/Classical_Music_Midi.zip\n",
            "  inflating: /content/Classical_Music_Midi/albeniz/alb_esp1.mid  \n",
            "  inflating: /content/Classical_Music_Midi/albeniz/alb_esp2.mid  \n",
            "  inflating: /content/Classical_Music_Midi/albeniz/alb_esp3.mid  \n",
            "  inflating: /content/Classical_Music_Midi/albeniz/alb_esp4.mid  \n",
            "  inflating: /content/Classical_Music_Midi/albeniz/alb_esp5.mid  \n",
            "  inflating: /content/Classical_Music_Midi/albeniz/alb_esp6.mid  \n",
            "  inflating: /content/Classical_Music_Midi/albeniz/alb_se1.mid  \n",
            "  inflating: /content/Classical_Music_Midi/albeniz/alb_se2.mid  \n",
            "  inflating: /content/Classical_Music_Midi/albeniz/alb_se3.mid  \n",
            "  inflating: /content/Classical_Music_Midi/albeniz/alb_se4.mid  \n",
            "  inflating: /content/Classical_Music_Midi/albeniz/alb_se5.mid  \n",
            "  inflating: /content/Classical_Music_Midi/albeniz/alb_se6.mid  \n",
            "  inflating: /content/Classical_Music_Midi/albeniz/alb_se7.mid  \n",
            "  inflating: /content/Classical_Music_Midi/albeniz/alb_se8.mid  \n",
            "  inflating: /content/Classical_Music_Midi/bach/bach_846.mid  \n",
            "  inflating: /content/Classical_Music_Midi/bach/bach_847.mid  \n",
            "  inflating: /content/Classical_Music_Midi/bach/bach_850.mid  \n",
            "  inflating: /content/Classical_Music_Midi/balakir/islamei.mid  \n",
            "  inflating: /content/Classical_Music_Midi/beeth/appass_1.mid  \n",
            "  inflating: /content/Classical_Music_Midi/beeth/appass_2.mid  \n",
            "  inflating: /content/Classical_Music_Midi/beeth/appass_3.mid  \n",
            "  inflating: /content/Classical_Music_Midi/beeth/beethoven_hammerklavier_1.mid  \n",
            "  inflating: /content/Classical_Music_Midi/beeth/beethoven_hammerklavier_2.mid  \n",
            "  inflating: /content/Classical_Music_Midi/beeth/beethoven_hammerklavier_3.mid  \n",
            "  inflating: /content/Classical_Music_Midi/beeth/beethoven_hammerklavier_4.mid  \n",
            "  inflating: /content/Classical_Music_Midi/beeth/beethoven_les_adieux_1.mid  \n",
            "  inflating: /content/Classical_Music_Midi/beeth/beethoven_les_adieux_2.mid  \n",
            "  inflating: /content/Classical_Music_Midi/beeth/beethoven_les_adieux_3.mid  \n",
            "  inflating: /content/Classical_Music_Midi/beeth/beethoven_opus10_1.mid  \n",
            "  inflating: /content/Classical_Music_Midi/beeth/beethoven_opus10_2.mid  \n",
            "  inflating: /content/Classical_Music_Midi/beeth/beethoven_opus10_3.mid  \n",
            "  inflating: /content/Classical_Music_Midi/beeth/beethoven_opus22_1.mid  \n",
            "  inflating: /content/Classical_Music_Midi/beeth/beethoven_opus22_2.mid  \n",
            "  inflating: /content/Classical_Music_Midi/beeth/beethoven_opus22_3.mid  \n",
            "  inflating: /content/Classical_Music_Midi/beeth/beethoven_opus22_4.mid  \n",
            "  inflating: /content/Classical_Music_Midi/beeth/beethoven_opus90_1.mid  \n",
            "  inflating: /content/Classical_Music_Midi/beeth/beethoven_opus90_2.mid  \n",
            "  inflating: /content/Classical_Music_Midi/beeth/elise.mid  \n",
            "  inflating: /content/Classical_Music_Midi/beeth/mond_1.mid  \n",
            "  inflating: /content/Classical_Music_Midi/beeth/mond_2.mid  \n",
            "  inflating: /content/Classical_Music_Midi/beeth/mond_3.mid  \n",
            "  inflating: /content/Classical_Music_Midi/beeth/pathetique_1.mid  \n",
            "  inflating: /content/Classical_Music_Midi/beeth/pathetique_2.mid  \n",
            "  inflating: /content/Classical_Music_Midi/beeth/pathetique_3.mid  \n",
            "  inflating: /content/Classical_Music_Midi/beeth/waldstein_1.mid  \n",
            "  inflating: /content/Classical_Music_Midi/beeth/waldstein_2.mid  \n",
            "  inflating: /content/Classical_Music_Midi/beeth/waldstein_3.mid  \n",
            "  inflating: /content/Classical_Music_Midi/borodin/bor_ps1.mid  \n",
            "  inflating: /content/Classical_Music_Midi/borodin/bor_ps2.mid  \n",
            "  inflating: /content/Classical_Music_Midi/borodin/bor_ps3.mid  \n",
            "  inflating: /content/Classical_Music_Midi/borodin/bor_ps4.mid  \n",
            "  inflating: /content/Classical_Music_Midi/borodin/bor_ps5.mid  \n",
            "  inflating: /content/Classical_Music_Midi/borodin/bor_ps6.mid  \n",
            "  inflating: /content/Classical_Music_Midi/borodin/bor_ps7.mid  \n",
            "  inflating: /content/Classical_Music_Midi/brahms/BR_IM6.MID  \n",
            "  inflating: /content/Classical_Music_Midi/brahms/br_im2.mid  \n",
            "  inflating: /content/Classical_Music_Midi/brahms/br_im5.mid  \n",
            "  inflating: /content/Classical_Music_Midi/brahms/br_rhap.mid  \n",
            "  inflating: /content/Classical_Music_Midi/brahms/brahms_opus117_1.mid  \n",
            "  inflating: /content/Classical_Music_Midi/brahms/brahms_opus117_2.mid  \n",
            "  inflating: /content/Classical_Music_Midi/brahms/brahms_opus1_1.mid  \n",
            "  inflating: /content/Classical_Music_Midi/brahms/brahms_opus1_2.mid  \n",
            "  inflating: /content/Classical_Music_Midi/brahms/brahms_opus1_3.mid  \n",
            "  inflating: /content/Classical_Music_Midi/brahms/brahms_opus1_4.mid  \n",
            "  inflating: /content/Classical_Music_Midi/burgm/burg_agitato.mid  \n",
            "  inflating: /content/Classical_Music_Midi/burgm/burg_erwachen.mid  \n",
            "  inflating: /content/Classical_Music_Midi/burgm/burg_geschwindigkeit.mid  \n",
            "  inflating: /content/Classical_Music_Midi/burgm/burg_gewitter.mid  \n",
            "  inflating: /content/Classical_Music_Midi/burgm/burg_perlen.mid  \n",
            "  inflating: /content/Classical_Music_Midi/burgm/burg_quelle.mid  \n",
            "  inflating: /content/Classical_Music_Midi/burgm/burg_spinnerlied.mid  \n",
            "  inflating: /content/Classical_Music_Midi/burgm/burg_sylphen.mid  \n",
            "  inflating: /content/Classical_Music_Midi/burgm/burg_trennung.mid  \n",
            "  inflating: /content/Classical_Music_Midi/chopin/chp_op18.mid  \n",
            "  inflating: /content/Classical_Music_Midi/chopin/chp_op31.mid  \n",
            "  inflating: /content/Classical_Music_Midi/chopin/chpn-p1.mid  \n",
            "  inflating: /content/Classical_Music_Midi/chopin/chpn-p10.mid  \n",
            "  inflating: /content/Classical_Music_Midi/chopin/chpn-p11.mid  \n",
            "  inflating: /content/Classical_Music_Midi/chopin/chpn-p12.mid  \n",
            "  inflating: /content/Classical_Music_Midi/chopin/chpn-p13.mid  \n",
            "  inflating: /content/Classical_Music_Midi/chopin/chpn-p14.mid  \n",
            "  inflating: /content/Classical_Music_Midi/chopin/chpn-p15.mid  \n",
            "  inflating: /content/Classical_Music_Midi/chopin/chpn-p16.mid  \n",
            "  inflating: /content/Classical_Music_Midi/chopin/chpn-p17.mid  \n",
            "  inflating: /content/Classical_Music_Midi/chopin/chpn-p18.mid  \n",
            "  inflating: /content/Classical_Music_Midi/chopin/chpn-p19.mid  \n",
            "  inflating: /content/Classical_Music_Midi/chopin/chpn-p2.mid  \n",
            "  inflating: /content/Classical_Music_Midi/chopin/chpn-p20.mid  \n",
            "  inflating: /content/Classical_Music_Midi/chopin/chpn-p21.mid  \n",
            "  inflating: /content/Classical_Music_Midi/chopin/chpn-p22.mid  \n",
            "  inflating: /content/Classical_Music_Midi/chopin/chpn-p23.mid  \n",
            "  inflating: /content/Classical_Music_Midi/chopin/chpn-p24.mid  \n",
            "  inflating: /content/Classical_Music_Midi/chopin/chpn-p3.mid  \n",
            "  inflating: /content/Classical_Music_Midi/chopin/chpn-p4.mid  \n",
            "  inflating: /content/Classical_Music_Midi/chopin/chpn-p5.mid  \n",
            "  inflating: /content/Classical_Music_Midi/chopin/chpn-p6.mid  \n",
            "  inflating: /content/Classical_Music_Midi/chopin/chpn-p7.mid  \n",
            "  inflating: /content/Classical_Music_Midi/chopin/chpn-p8.mid  \n",
            "  inflating: /content/Classical_Music_Midi/chopin/chpn-p9.mid  \n",
            "  inflating: /content/Classical_Music_Midi/chopin/chpn_op10_e01.mid  \n",
            "  inflating: /content/Classical_Music_Midi/chopin/chpn_op10_e05.mid  \n",
            "  inflating: /content/Classical_Music_Midi/chopin/chpn_op10_e12.mid  \n",
            "  inflating: /content/Classical_Music_Midi/chopin/chpn_op23.mid  \n",
            "  inflating: /content/Classical_Music_Midi/chopin/chpn_op25_e1.mid  \n",
            "  inflating: /content/Classical_Music_Midi/chopin/chpn_op25_e11.mid  \n",
            "  inflating: /content/Classical_Music_Midi/chopin/chpn_op25_e12.mid  \n",
            "  inflating: /content/Classical_Music_Midi/chopin/chpn_op25_e2.mid  \n",
            "  inflating: /content/Classical_Music_Midi/chopin/chpn_op25_e3.mid  \n",
            "  inflating: /content/Classical_Music_Midi/chopin/chpn_op25_e4.mid  \n",
            "  inflating: /content/Classical_Music_Midi/chopin/chpn_op27_1.mid  \n",
            "  inflating: /content/Classical_Music_Midi/chopin/chpn_op27_2.mid  \n",
            "  inflating: /content/Classical_Music_Midi/chopin/chpn_op33_2.mid  \n",
            "  inflating: /content/Classical_Music_Midi/chopin/chpn_op33_4.mid  \n",
            "  inflating: /content/Classical_Music_Midi/chopin/chpn_op35_1.mid  \n",
            "  inflating: /content/Classical_Music_Midi/chopin/chpn_op35_2.mid  \n",
            "  inflating: /content/Classical_Music_Midi/chopin/chpn_op35_3.mid  \n",
            "  inflating: /content/Classical_Music_Midi/chopin/chpn_op35_4.mid  \n",
            "  inflating: /content/Classical_Music_Midi/chopin/chpn_op53.mid  \n",
            "  inflating: /content/Classical_Music_Midi/chopin/chpn_op66.mid  \n",
            "  inflating: /content/Classical_Music_Midi/chopin/chpn_op7_1.mid  \n",
            "  inflating: /content/Classical_Music_Midi/chopin/chpn_op7_2.mid  \n",
            "  inflating: /content/Classical_Music_Midi/debussy/DEB_CLAI.MID  \n",
            "  inflating: /content/Classical_Music_Midi/debussy/DEB_PASS.MID  \n",
            "  inflating: /content/Classical_Music_Midi/debussy/deb_menu.mid  \n",
            "  inflating: /content/Classical_Music_Midi/debussy/deb_prel.mid  \n",
            "  inflating: /content/Classical_Music_Midi/debussy/debussy_cc_1.mid  \n",
            "  inflating: /content/Classical_Music_Midi/debussy/debussy_cc_2.mid  \n",
            "  inflating: /content/Classical_Music_Midi/debussy/debussy_cc_3.mid  \n",
            "  inflating: /content/Classical_Music_Midi/debussy/debussy_cc_4.mid  \n",
            "  inflating: /content/Classical_Music_Midi/debussy/debussy_cc_6.mid  \n",
            "  inflating: /content/Classical_Music_Midi/granados/gra_esp_2.mid  \n",
            "  inflating: /content/Classical_Music_Midi/granados/gra_esp_3.mid  \n",
            "  inflating: /content/Classical_Music_Midi/granados/gra_esp_4.mid  \n",
            "  inflating: /content/Classical_Music_Midi/grieg/grieg_album.mid  \n",
            "  inflating: /content/Classical_Music_Midi/grieg/grieg_berceuse.mid  \n",
            "  inflating: /content/Classical_Music_Midi/grieg/grieg_brooklet.mid  \n",
            "  inflating: /content/Classical_Music_Midi/grieg/grieg_butterfly.mid  \n",
            "  inflating: /content/Classical_Music_Midi/grieg/grieg_elfentanz.mid  \n",
            "  inflating: /content/Classical_Music_Midi/grieg/grieg_halling.mid  \n",
            "  inflating: /content/Classical_Music_Midi/grieg/grieg_kobold.mid  \n",
            "  inflating: /content/Classical_Music_Midi/grieg/grieg_march.mid  \n",
            "  inflating: /content/Classical_Music_Midi/grieg/grieg_once_upon_a_time.mid  \n",
            "  inflating: /content/Classical_Music_Midi/grieg/grieg_spring.mid  \n",
            "  inflating: /content/Classical_Music_Midi/grieg/grieg_voeglein.mid  \n",
            "  inflating: /content/Classical_Music_Midi/grieg/grieg_waechter.mid  \n",
            "  inflating: /content/Classical_Music_Midi/grieg/grieg_walzer.mid  \n",
            "  inflating: /content/Classical_Music_Midi/grieg/grieg_wanderer.mid  \n",
            "  inflating: /content/Classical_Music_Midi/grieg/grieg_wedding.mid  \n",
            "  inflating: /content/Classical_Music_Midi/grieg/grieg_zwerge.mid  \n",
            "  inflating: /content/Classical_Music_Midi/haydn/hay_40_1.mid  \n",
            "  inflating: /content/Classical_Music_Midi/haydn/hay_40_2.mid  \n",
            "  inflating: /content/Classical_Music_Midi/haydn/haydn_33_1.mid  \n",
            "  inflating: /content/Classical_Music_Midi/haydn/haydn_33_2.mid  \n",
            "  inflating: /content/Classical_Music_Midi/haydn/haydn_33_3.mid  \n",
            "  inflating: /content/Classical_Music_Midi/haydn/haydn_35_1.mid  \n",
            "  inflating: /content/Classical_Music_Midi/haydn/haydn_35_2.mid  \n",
            "  inflating: /content/Classical_Music_Midi/haydn/haydn_35_3.mid  \n",
            "  inflating: /content/Classical_Music_Midi/haydn/haydn_43_1.mid  \n",
            "  inflating: /content/Classical_Music_Midi/haydn/haydn_43_2.mid  \n",
            "  inflating: /content/Classical_Music_Midi/haydn/haydn_43_3.mid  \n",
            "  inflating: /content/Classical_Music_Midi/haydn/haydn_7_1.mid  \n",
            "  inflating: /content/Classical_Music_Midi/haydn/haydn_7_2.mid  \n",
            "  inflating: /content/Classical_Music_Midi/haydn/haydn_7_3.mid  \n",
            "  inflating: /content/Classical_Music_Midi/haydn/haydn_8_1.mid  \n",
            "  inflating: /content/Classical_Music_Midi/haydn/haydn_8_2.mid  \n",
            "  inflating: /content/Classical_Music_Midi/haydn/haydn_8_3.mid  \n",
            "  inflating: /content/Classical_Music_Midi/haydn/haydn_8_4.mid  \n",
            "  inflating: /content/Classical_Music_Midi/haydn/haydn_9_1.mid  \n",
            "  inflating: /content/Classical_Music_Midi/haydn/haydn_9_2.mid  \n",
            "  inflating: /content/Classical_Music_Midi/haydn/haydn_9_3.mid  \n",
            "  inflating: /content/Classical_Music_Midi/liszt/liz_donjuan.mid  \n",
            "  inflating: /content/Classical_Music_Midi/liszt/liz_et1.mid  \n",
            "  inflating: /content/Classical_Music_Midi/liszt/liz_et2.mid  \n",
            "  inflating: /content/Classical_Music_Midi/liszt/liz_et3.mid  \n",
            "  inflating: /content/Classical_Music_Midi/liszt/liz_et4.mid  \n",
            "  inflating: /content/Classical_Music_Midi/liszt/liz_et5.mid  \n",
            "  inflating: /content/Classical_Music_Midi/liszt/liz_et6.mid  \n",
            "  inflating: /content/Classical_Music_Midi/liszt/liz_et_trans4.mid  \n",
            "  inflating: /content/Classical_Music_Midi/liszt/liz_et_trans5.mid  \n",
            "  inflating: /content/Classical_Music_Midi/liszt/liz_et_trans8.mid  \n",
            "  inflating: /content/Classical_Music_Midi/liszt/liz_liebestraum.mid  \n",
            "  inflating: /content/Classical_Music_Midi/liszt/liz_rhap02.mid  \n",
            "  inflating: /content/Classical_Music_Midi/liszt/liz_rhap09.mid  \n",
            "  inflating: /content/Classical_Music_Midi/liszt/liz_rhap10.mid  \n",
            "  inflating: /content/Classical_Music_Midi/liszt/liz_rhap12.mid  \n",
            "  inflating: /content/Classical_Music_Midi/liszt/liz_rhap15.mid  \n",
            "  inflating: /content/Classical_Music_Midi/mendelssohn/mendel_op19_1.mid  \n",
            "  inflating: /content/Classical_Music_Midi/mendelssohn/mendel_op19_2.mid  \n",
            "  inflating: /content/Classical_Music_Midi/mendelssohn/mendel_op19_3.mid  \n",
            "  inflating: /content/Classical_Music_Midi/mendelssohn/mendel_op19_4.mid  \n",
            "  inflating: /content/Classical_Music_Midi/mendelssohn/mendel_op19_5.mid  \n",
            "  inflating: /content/Classical_Music_Midi/mendelssohn/mendel_op19_6.mid  \n",
            "  inflating: /content/Classical_Music_Midi/mendelssohn/mendel_op30_1.mid  \n",
            "  inflating: /content/Classical_Music_Midi/mendelssohn/mendel_op30_2.mid  \n",
            "  inflating: /content/Classical_Music_Midi/mendelssohn/mendel_op30_3.mid  \n",
            "  inflating: /content/Classical_Music_Midi/mendelssohn/mendel_op30_4.mid  \n",
            "  inflating: /content/Classical_Music_Midi/mendelssohn/mendel_op30_5.mid  \n",
            "  inflating: /content/Classical_Music_Midi/mendelssohn/mendel_op53_5.mid  \n",
            "  inflating: /content/Classical_Music_Midi/mendelssohn/mendel_op62_3.mid  \n",
            "  inflating: /content/Classical_Music_Midi/mendelssohn/mendel_op62_4.mid  \n",
            "  inflating: /content/Classical_Music_Midi/mendelssohn/mendel_op62_5.mid  \n",
            "  inflating: /content/Classical_Music_Midi/mozart/mz_311_1.mid  \n",
            "  inflating: /content/Classical_Music_Midi/mozart/mz_311_2.mid  \n",
            "  inflating: /content/Classical_Music_Midi/mozart/mz_311_3.mid  \n",
            "  inflating: /content/Classical_Music_Midi/mozart/mz_330_1.mid  \n",
            "  inflating: /content/Classical_Music_Midi/mozart/mz_330_2.mid  \n",
            "  inflating: /content/Classical_Music_Midi/mozart/mz_330_3.mid  \n",
            "  inflating: /content/Classical_Music_Midi/mozart/mz_331_1.mid  \n",
            "  inflating: /content/Classical_Music_Midi/mozart/mz_331_2.mid  \n",
            "  inflating: /content/Classical_Music_Midi/mozart/mz_331_3.mid  \n",
            "  inflating: /content/Classical_Music_Midi/mozart/mz_332_1.mid  \n",
            "  inflating: /content/Classical_Music_Midi/mozart/mz_332_2.mid  \n",
            "  inflating: /content/Classical_Music_Midi/mozart/mz_332_3.mid  \n",
            "  inflating: /content/Classical_Music_Midi/mozart/mz_333_1.mid  \n",
            "  inflating: /content/Classical_Music_Midi/mozart/mz_333_2.mid  \n",
            "  inflating: /content/Classical_Music_Midi/mozart/mz_333_3.mid  \n",
            "  inflating: /content/Classical_Music_Midi/mozart/mz_545_1.mid  \n",
            "  inflating: /content/Classical_Music_Midi/mozart/mz_545_2.mid  \n",
            "  inflating: /content/Classical_Music_Midi/mozart/mz_545_3.mid  \n",
            "  inflating: /content/Classical_Music_Midi/mozart/mz_570_1.mid  \n",
            "  inflating: /content/Classical_Music_Midi/mozart/mz_570_2.mid  \n",
            "  inflating: /content/Classical_Music_Midi/mozart/mz_570_3.mid  \n",
            "  inflating: /content/Classical_Music_Midi/muss/muss_1.mid  \n",
            "  inflating: /content/Classical_Music_Midi/muss/muss_2.mid  \n",
            "  inflating: /content/Classical_Music_Midi/muss/muss_3.mid  \n",
            "  inflating: /content/Classical_Music_Midi/muss/muss_4.mid  \n",
            "  inflating: /content/Classical_Music_Midi/muss/muss_5.mid  \n",
            "  inflating: /content/Classical_Music_Midi/muss/muss_6.mid  \n",
            "  inflating: /content/Classical_Music_Midi/muss/muss_7.mid  \n",
            "  inflating: /content/Classical_Music_Midi/muss/muss_8.mid  \n",
            "  inflating: /content/Classical_Music_Midi/schubert/schu_143_1.mid  \n",
            "  inflating: /content/Classical_Music_Midi/schubert/schu_143_2.mid  \n",
            "  inflating: /content/Classical_Music_Midi/schubert/schu_143_3.mid  \n",
            "  inflating: /content/Classical_Music_Midi/schubert/schub_d760_1.mid  \n",
            "  inflating: /content/Classical_Music_Midi/schubert/schub_d760_2.mid  \n",
            "  inflating: /content/Classical_Music_Midi/schubert/schub_d760_3.mid  \n",
            "  inflating: /content/Classical_Music_Midi/schubert/schub_d760_4.mid  \n",
            "  inflating: /content/Classical_Music_Midi/schubert/schub_d960_1.mid  \n",
            "  inflating: /content/Classical_Music_Midi/schubert/schub_d960_2.mid  \n",
            "  inflating: /content/Classical_Music_Midi/schubert/schub_d960_3.mid  \n",
            "  inflating: /content/Classical_Music_Midi/schubert/schub_d960_4.mid  \n",
            "  inflating: /content/Classical_Music_Midi/schubert/schubert_D850_1.mid  \n",
            "  inflating: /content/Classical_Music_Midi/schubert/schubert_D850_2.mid  \n",
            "  inflating: /content/Classical_Music_Midi/schubert/schubert_D850_3.mid  \n",
            "  inflating: /content/Classical_Music_Midi/schubert/schubert_D850_4.mid  \n",
            "  inflating: /content/Classical_Music_Midi/schubert/schubert_D935_1.mid  \n",
            "  inflating: /content/Classical_Music_Midi/schubert/schubert_D935_2.mid  \n",
            "  inflating: /content/Classical_Music_Midi/schubert/schubert_D935_3.mid  \n",
            "  inflating: /content/Classical_Music_Midi/schubert/schubert_D935_4.mid  \n",
            "  inflating: /content/Classical_Music_Midi/schubert/schuim-1.mid  \n",
            "  inflating: /content/Classical_Music_Midi/schubert/schuim-2.mid  \n",
            "  inflating: /content/Classical_Music_Midi/schubert/schuim-3.mid  \n",
            "  inflating: /content/Classical_Music_Midi/schubert/schuim-4.mid  \n",
            "  inflating: /content/Classical_Music_Midi/schubert/schumm-1.mid  \n",
            "  inflating: /content/Classical_Music_Midi/schubert/schumm-2.mid  \n",
            "  inflating: /content/Classical_Music_Midi/schubert/schumm-3.mid  \n",
            "  inflating: /content/Classical_Music_Midi/schubert/schumm-4.mid  \n",
            "  inflating: /content/Classical_Music_Midi/schubert/schumm-5.mid  \n",
            "  inflating: /content/Classical_Music_Midi/schubert/schumm-6.mid  \n",
            "  inflating: /content/Classical_Music_Midi/schumann/schum_abegg.mid  \n",
            "  inflating: /content/Classical_Music_Midi/schumann/scn15_1.mid  \n",
            "  inflating: /content/Classical_Music_Midi/schumann/scn15_10.mid  \n",
            "  inflating: /content/Classical_Music_Midi/schumann/scn15_11.mid  \n",
            "  inflating: /content/Classical_Music_Midi/schumann/scn15_12.mid  \n",
            "  inflating: /content/Classical_Music_Midi/schumann/scn15_13.mid  \n",
            "  inflating: /content/Classical_Music_Midi/schumann/scn15_2.mid  \n",
            "  inflating: /content/Classical_Music_Midi/schumann/scn15_3.mid  \n",
            "  inflating: /content/Classical_Music_Midi/schumann/scn15_4.mid  \n",
            "  inflating: /content/Classical_Music_Midi/schumann/scn15_5.mid  \n",
            "  inflating: /content/Classical_Music_Midi/schumann/scn15_6.mid  \n",
            "  inflating: /content/Classical_Music_Midi/schumann/scn15_7.mid  \n",
            "  inflating: /content/Classical_Music_Midi/schumann/scn15_8.mid  \n",
            "  inflating: /content/Classical_Music_Midi/schumann/scn15_9.mid  \n",
            "  inflating: /content/Classical_Music_Midi/schumann/scn16_1.mid  \n",
            "  inflating: /content/Classical_Music_Midi/schumann/scn16_2.mid  \n",
            "  inflating: /content/Classical_Music_Midi/schumann/scn16_3.mid  \n",
            "  inflating: /content/Classical_Music_Midi/schumann/scn16_4.mid  \n",
            "  inflating: /content/Classical_Music_Midi/schumann/scn16_5.mid  \n",
            "  inflating: /content/Classical_Music_Midi/schumann/scn16_6.mid  \n",
            "  inflating: /content/Classical_Music_Midi/schumann/scn16_7.mid  \n",
            "  inflating: /content/Classical_Music_Midi/schumann/scn16_8.mid  \n",
            "  inflating: /content/Classical_Music_Midi/schumann/scn68_10.mid  \n",
            "  inflating: /content/Classical_Music_Midi/schumann/scn68_12.mid  \n",
            "  inflating: /content/Classical_Music_Midi/tschai/ty_april.mid  \n",
            "  inflating: /content/Classical_Music_Midi/tschai/ty_august.mid  \n",
            "  inflating: /content/Classical_Music_Midi/tschai/ty_dezember.mid  \n",
            "  inflating: /content/Classical_Music_Midi/tschai/ty_februar.mid  \n",
            "  inflating: /content/Classical_Music_Midi/tschai/ty_januar.mid  \n",
            "  inflating: /content/Classical_Music_Midi/tschai/ty_juli.mid  \n",
            "  inflating: /content/Classical_Music_Midi/tschai/ty_juni.mid  \n",
            "  inflating: /content/Classical_Music_Midi/tschai/ty_maerz.mid  \n",
            "  inflating: /content/Classical_Music_Midi/tschai/ty_mai.mid  \n",
            "  inflating: /content/Classical_Music_Midi/tschai/ty_november.mid  \n",
            "  inflating: /content/Classical_Music_Midi/tschai/ty_oktober.mid  \n",
            "  inflating: /content/Classical_Music_Midi/tschai/ty_september.mid  \n"
          ]
        }
      ],
      "source": [
        "!unzip /content/Classical_Music_Midi.zip -d /content/Classical_Music_Midi/"
      ]
    },
    {
      "cell_type": "code",
      "execution_count": null,
      "metadata": {
        "colab": {
          "base_uri": "https://localhost:8080/"
        },
        "id": "dAiCT0DTi2s4",
        "outputId": "9923c0cd-411e-409c-b04a-84dcd60ece8f"
      },
      "outputs": [
        {
          "name": "stdout",
          "output_type": "stream",
          "text": [
            "Reading package lists... Done\n",
            "Building dependency tree... Done\n",
            "Reading state information... Done\n",
            "fluidsynth is already the newest version (2.2.5-1).\n",
            "0 upgraded, 0 newly installed, 0 to remove and 49 not upgraded.\n"
          ]
        }
      ],
      "source": [
        "!sudo apt install -y fluidsynth"
      ]
    },
    {
      "cell_type": "code",
      "execution_count": null,
      "metadata": {
        "colab": {
          "base_uri": "https://localhost:8080/"
        },
        "id": "zauwJ6Npi34v",
        "outputId": "51887bb6-84d6-4aa5-cd59-9912138a0e82"
      },
      "outputs": [
        {
          "name": "stdout",
          "output_type": "stream",
          "text": [
            "Requirement already satisfied: pyfluidsynth in /usr/local/lib/python3.10/dist-packages (1.3.4)\n",
            "Requirement already satisfied: numpy in /usr/local/lib/python3.10/dist-packages (from pyfluidsynth) (1.26.4)\n"
          ]
        }
      ],
      "source": [
        "!pip install --upgrade pyfluidsynth"
      ]
    },
    {
      "cell_type": "code",
      "execution_count": null,
      "metadata": {
        "colab": {
          "base_uri": "https://localhost:8080/"
        },
        "id": "eAwx7RQpi5yk",
        "outputId": "286edc6c-0e21-46ec-aabb-4bfe666f303a"
      },
      "outputs": [
        {
          "name": "stdout",
          "output_type": "stream",
          "text": [
            "Requirement already satisfied: pretty_midi in /usr/local/lib/python3.10/dist-packages (0.2.10)\n",
            "Requirement already satisfied: numpy>=1.7.0 in /usr/local/lib/python3.10/dist-packages (from pretty_midi) (1.26.4)\n",
            "Requirement already satisfied: mido>=1.1.16 in /usr/local/lib/python3.10/dist-packages (from pretty_midi) (1.3.3)\n",
            "Requirement already satisfied: six in /usr/local/lib/python3.10/dist-packages (from pretty_midi) (1.17.0)\n",
            "Requirement already satisfied: packaging in /usr/local/lib/python3.10/dist-packages (from mido>=1.1.16->pretty_midi) (24.2)\n"
          ]
        }
      ],
      "source": [
        "!pip install pretty_midi"
      ]
    },
    {
      "cell_type": "code",
      "execution_count": null,
      "metadata": {
        "id": "zR2xjd5_8g2N"
      },
      "outputs": [],
      "source": [
        "import pretty_midi\n",
        "import reverse_pianoroll\n",
        "import convert\n",
        "import librosa"
      ]
    },
    {
      "cell_type": "code",
      "execution_count": null,
      "metadata": {
        "id": "LNiQvohD8g25"
      },
      "outputs": [],
      "source": [
        "import numpy as np\n",
        "import sys\n",
        "import random"
      ]
    },
    {
      "cell_type": "code",
      "execution_count": null,
      "metadata": {
        "id": "SWV1ONBqEj1t"
      },
      "outputs": [],
      "source": [
        "#all necessary imports: use pip install [library name] to add to environment\n",
        "\n",
        "import tensorflow.compat.v1 as tf\n",
        "import numpy as np\n",
        "import matplotlib.pyplot as plt\n",
        "import matplotlib.gridspec as gridspec\n",
        "import os\n",
        "from os import listdir\n",
        "import glob"
      ]
    },
    {
      "cell_type": "code",
      "execution_count": null,
      "metadata": {
        "id": "t0MVvlIeEj1v"
      },
      "outputs": [],
      "source": [
        "#add songs to data\n",
        "def get_songs(path):\n",
        "    files = glob.glob('{}/*.mid*'.format(path))\n",
        "    songs = {}\n",
        "    for f in files:\n",
        "        try:\n",
        "            data = pretty_midi.PrettyMIDI(f)\n",
        "            song = data.get_piano_roll(fs=16)\n",
        "            song = convert.forward(song)\n",
        "            # song = np.transpose(song) #if your code matrices aren't working, try uncommenting this. the convert.py file might not be updated\n",
        "            songs[f] = {\n",
        "                'original_midi': data,\n",
        "                'song': song\n",
        "            }\n",
        "        except Exception as e:\n",
        "            raise e\n",
        "    return songs"
      ]
    },
    {
      "cell_type": "code",
      "execution_count": null,
      "metadata": {
        "id": "4MYRJza_Ej1v"
      },
      "outputs": [],
      "source": [
        "#custom function to extract chroma features from song\n",
        "def add_chromas(songs):\n",
        "    chromas = []\n",
        "    for song in songs:\n",
        "        chroma = np.zeros(shape=(np.shape(songs[song]['song'])[0], 12))\n",
        "        for i in np.arange(np.shape(songs[song]['song'])[0]):\n",
        "            for j in np.arange(78):\n",
        "                if songs[song]['song'][i][j] > 0:\n",
        "                    chroma[i][np.mod(j,12)] += 1\n",
        "        songs[song]['chroma'] = chroma\n",
        "\n",
        "    return songs"
      ]
    },
    {
      "cell_type": "code",
      "execution_count": null,
      "metadata": {
        "id": "Xmg6hl8KjBJc"
      },
      "outputs": [],
      "source": [
        "from IPython import display\n",
        "import fluidsynth\n",
        "\n",
        "_SAMPLING_RATE = 16000\n",
        "def display_audio(pm: pretty_midi.PrettyMIDI, seconds=30):\n",
        "  waveform = pm.fluidsynth(fs=_SAMPLING_RATE)\n",
        "  # Take a sample of the generated waveform to mitigate kernel resets\n",
        "  waveform_short = waveform[:seconds*_SAMPLING_RATE]\n",
        "  return display.Audio(waveform_short, rate=_SAMPLING_RATE)"
      ]
    },
    {
      "cell_type": "code",
      "execution_count": null,
      "metadata": {
        "colab": {
          "base_uri": "https://localhost:8080/"
        },
        "id": "8iihxLXwEj1w",
        "outputId": "77ce1a8c-3084-43cf-a823-4e4a72a24227"
      },
      "outputs": [
        {
          "name": "stdout",
          "output_type": "stream",
          "text": [
            "21 songs processed\n",
            "21 chromas processed\n"
          ]
        }
      ],
      "source": [
        "songs = get_songs('./Classical_Music_Midi/mozart')\n",
        "songs = add_chromas(songs)\n",
        "print (\"{} songs processed\".format(len(['song' in songs[f] for f in songs])))\n",
        "print (\"{} chromas processed\".format(len(['chroma' in songs[f] for f in songs])))"
      ]
    },
    {
      "cell_type": "markdown",
      "metadata": {
        "id": "YzToDZo1WYD_"
      },
      "source": [
        "#### Exploring the song and chroma representations\n",
        "\n",
        "Looking at a random song segment"
      ]
    },
    {
      "cell_type": "code",
      "execution_count": null,
      "metadata": {
        "colab": {
          "base_uri": "https://localhost:8080/"
        },
        "id": "XjqIzFx7WYD_",
        "outputId": "31a90218-5d55-427f-a26b-22a5a45edaf2"
      },
      "outputs": [
        {
          "data": {
            "text/plain": [
              "((3144, 156), (3144, 12))"
            ]
          },
          "execution_count": 13,
          "metadata": {},
          "output_type": "execute_result"
        }
      ],
      "source": [
        "cur_song = list(songs.keys())[0]\n",
        "song = songs[cur_song]['song']\n",
        "chroma = songs[cur_song]['chroma']\n",
        "np.shape(song), np.shape(chroma)"
      ]
    },
    {
      "cell_type": "code",
      "execution_count": null,
      "metadata": {
        "colab": {
          "base_uri": "https://localhost:8080/",
          "height": 851
        },
        "id": "stw04DAGWYEA",
        "outputId": "b1202828-7c9d-42a0-9d17-8bbafae7b259"
      },
      "outputs": [
        {
          "data": {
            "text/plain": [
              "<matplotlib.image.AxesImage at 0x7c2e67996830>"
            ]
          },
          "execution_count": 14,
          "metadata": {},
          "output_type": "execute_result"
        },
        {
          "data": {
            "image/png": "[encoded data removed]",
            "text/plain": [
              "<Figure size 2000x1000 with 1 Axes>"
            ]
          },
          "metadata": {},
          "output_type": "display_data"
        }
      ],
      "source": [
        "plt.figure(figsize = (20,10))\n",
        "plt.imshow(100*song[:100,:].T)"
      ]
    },
    {
      "cell_type": "code",
      "execution_count": null,
      "metadata": {
        "colab": {
          "base_uri": "https://localhost:8080/",
          "height": 204
        },
        "id": "7QJ3I7UWWYEB",
        "outputId": "ca7e012d-3dbf-4352-9923-99fc397e86af"
      },
      "outputs": [
        {
          "data": {
            "text/plain": [
              "<matplotlib.image.AxesImage at 0x7c2e676b4ca0>"
            ]
          },
          "execution_count": 15,
          "metadata": {},
          "output_type": "execute_result"
        },
        {
          "data": {
            "image/png": "[encoded data removed]",
            "text/plain": [
              "<Figure size 2000x1000 with 1 Axes>"
            ]
          },
          "metadata": {},
          "output_type": "display_data"
        }
      ],
      "source": [
        "plt.figure(figsize = (20,10))\n",
        "plt.imshow(100*chroma[:100,:].T)"
      ]
    },
    {
      "cell_type": "markdown",
      "metadata": {
        "id": "1YBxV2uQWYEB"
      },
      "source": [
        "##### Question 1 [5 points]\n",
        "Describe what the chromas function does. In your answer refer to musical terms of note names and octave numbers. How does that resemble or differ from the chroma feature that is computed for audio spectrum? Use the figures to demonstrate the explanation.\n",
        "\n",
        "Hint: Refresh the musical terms by looking at the lecture slides and consider what type of music anaylsis the audio chroma is used for. If you are interested more in musical theory you may also consider the concepts of \"pitch class\" and \"music set theory\" that are explained in https://en.wikipedia.org/wiki/Musical_note and https://en.wikipedia.org/wiki/Set_theory_%28music%29"
      ]
    },
    {
      "cell_type": "markdown",
      "metadata": {
        "id": "8hhMa419WYEB"
      },
      "source": [
        "``` your response here```<br>\n",
        "**What the chromas function does:**\n",
        "\n",
        "1. **Initialization:** It creates a matrix called chroma with dimensions corresponding to the time steps of the song and 12 pitch classes (C, C#, D, D#, E, F, F#, G, G#, A, A#, B). This matrix is initially filled with zeros.\n",
        "2. **Note Processing:** It iterates through each time step and each note (from a range of 78 representing the piano roll) in the song data.\n",
        "3. **Chroma Calculation:** If a note is present (indicated by a value greater than 0 in the song data), it increments the count in the corresponding chroma bin. The chroma bin is determined by the note's pitch class, which is essentially the note's name regardless of the octave. This is achieved using the modulo operation np.mod(j, 12), where j represents the note index.\n",
        "4. **Storing Chroma:** The calculated chroma information is then stored in the songs dictionary under the key 'chroma' for the respective song.\n",
        "\n",
        "**In musical terms:**\n",
        "\n",
        "* The chromas function essentially creates a histogram of pitch classes present in the music over time.\n",
        "* It disregards the octave of a note, meaning a C in the first octave and a C in the second octave both contribute to the same chroma bin (representing the pitch class C).\n",
        "* This representation captures the harmonic content of the music, showing how the different pitch classes are distributed over time.\n",
        "\n",
        "**Resemblance and Difference from Audio Chroma Feature:**\n",
        "\n",
        "**Resemblance:**\n",
        "\n",
        "* Both the chromas function in the code and the audio chroma feature aim to represent the harmonic content of music.\n",
        "* Both disregard octave information and focus on pitch classes.\n",
        "*They are both robust to changes in timbre and instrumentation, as they focus on the underlying harmonic structure.\n",
        "\n",
        "**Difference:**\n",
        "\n",
        "* The chromas function operates on MIDI data, which is a symbolic representation of music. It directly accesses note information.\n",
        "* The audio chroma feature is computed from audio signals. It involves analyzing the audio spectrum to estimate the presence of different pitch classes. The first involves extracting chroma features from the symbolic MIDI data while the second involves a more complex process of deriving them from a raw audio signal which may not be purely harmonic.\n",
        "\n",
        "**Demonstration using Figures:**\n",
        "\n",
        "* **Figure 1 (Piano Roll):** Shows the notes played over time, with vertical position indicating pitch and horizontal position indicating time.\n",
        "* **Figure 2 (Chroma):** Shows the chroma representation, with each row representing a pitch class (C, C#, etc.) and the intensity indicating the presence of that pitch class at a particular time step.\n",
        "\n",
        "You can see that the chroma representation in Figure 2 reflects the harmonic changes in the music shown in the piano roll of Figure 1. For example, when a C chord is played in the piano roll, you'll see higher values in the C, E, and G rows of the chroma representation, corresponding to the notes in a C Major Chord."
      ]
    },
    {
      "cell_type": "markdown",
      "metadata": {
        "id": "lIhhTSj6GtvT"
      },
      "source": [
        "# 2. Setting Up GAN Model"
      ]
    },
    {
      "cell_type": "code",
      "execution_count": null,
      "metadata": {
        "colab": {
          "base_uri": "https://localhost:8080/"
        },
        "id": "aIaKKrWmEj1w",
        "outputId": "23ee1886-f092-4c8c-c680-8939965f6c44"
      },
      "outputs": [
        {
          "name": "stdout",
          "output_type": "stream",
          "text": [
            "624 48\n"
          ]
        }
      ],
      "source": [
        "lowest_note = 0 #the index of the lowest note on the piano roll\n",
        "highest_note = 78 #the index of the highest note on the piano roll\n",
        "note_range = highest_note-lowest_note #the note range\n",
        "\n",
        "num_timesteps  = 4 #This is the number of timesteps that we will create at a time\n",
        "X_dim = 2*note_range*num_timesteps #This is the size of the visible layer.\n",
        "Z_dim = 12*num_timesteps\n",
        "n_hidden = 50 #This is the size of the hidden layer\n",
        "\n",
        "print(X_dim,Z_dim)"
      ]
    },
    {
      "cell_type": "markdown",
      "metadata": {
        "id": "byxUD8BDWYEC"
      },
      "source": [
        "##### Question 2 [5 points]\n",
        "\n",
        "Explain what aspects of music (pitch, rhythm, note duration) are captured by the latent random Z? In your answer refer to the representaiton of the song data. Note how song matrix differs from standard pianoroll."
      ]
    },
    {
      "cell_type": "markdown",
      "metadata": {
        "id": "_XGBCf4JWYEC"
      },
      "source": [
        "``` your response here```<br>\n",
        "**Aspects of Music Captured by Z:**\n",
        "\n",
        "* **Pitch:** The primary aspect captured by Z is pitch, specifically in the form of chroma features. Each time step in Z contains a 12-dimensional vector representing the presence of each of the 12 pitch classes (C, C#, D, etc.). This captures the harmonic content of the music at that particular time step.\n",
        "* **Rhythm:** Z indirectly captures rhythm through the sequence of chroma features over time. Changes in the chroma vectors across time steps indicate changes in harmony, which often align with rhythmic patterns in the music.\n",
        "* **Note Duration:** Z does not explicitly capture note duration. It only represents the presence of pitch classes at specific time steps, not how long those notes are held.\n",
        "\n",
        "**Representation of Song Data:**\n",
        "\n",
        "* **Song Matrix:** The song matrix in this code is a modified version of a standard piano roll. While a standard piano roll uses binary values (0 or 1) to indicate the presence or absence of a note at a specific pitch and time, the song matrix uses continuous values to represent the velocity or intensity of each note.\n",
        "* **Difference from Standard Piano Roll:** This difference is crucial because the song matrix not only captures the presence of notes but also their dynamics, providing a richer representation of the musical texture. However, it still doesn't explicitly encode note duration.\n",
        "\n",
        "**How Z Relates to Song Data:**\n",
        "\n",
        "* Z is used as input to the generator, which aims to generate a piano roll-like representation of the music.\n",
        "* The generator learns to map the chroma information in Z to the note patterns and dynamics represented in the song matrix.\n",
        "* By conditioning the generator on Z, the model can generate music that follows the harmonic structure defined by the chroma features, while still having flexibility in terms of rhythm and note durations.\n",
        "\n",
        "Z primarily captures the harmonic content (pitch) of the music through chroma features. It indirectly reflects rhythm through changes in harmony over time, but it does not explicitly represent note duration. The song matrix differs from a standard piano roll by using continuous values to represent note intensity, providing a more detailed representation of musical texture."
      ]
    },
    {
      "cell_type": "code",
      "execution_count": null,
      "metadata": {
        "id": "uDpINNjpEj1x"
      },
      "outputs": [],
      "source": [
        "def xavier_init(size):\n",
        "    in_dim = size[0]\n",
        "    xavier_stddev = 1. / tf.sqrt(in_dim / 2.)\n",
        "    return tf.random_normal(shape=size, stddev=xavier_stddev)"
      ]
    },
    {
      "cell_type": "code",
      "execution_count": null,
      "metadata": {
        "colab": {
          "base_uri": "https://localhost:8080/"
        },
        "id": "24NXtz5IEj1x",
        "outputId": "342561c7-7a6e-42e7-c43b-545a93d9f465"
      },
      "outputs": [
        {
          "name": "stderr",
          "output_type": "stream",
          "text": [
            "WARNING:tensorflow:From /usr/local/lib/python3.10/dist-packages/tensorflow/python/compat/v2_compat.py:98: disable_resource_variables (from tensorflow.python.ops.resource_variables_toggle) is deprecated and will be removed in a future version.\n",
            "Instructions for updating:\n",
            "non-resource variables are not supported in the long term\n"
          ]
        }
      ],
      "source": [
        "tf.disable_v2_behavior()\n",
        "\n",
        "#setting up model, discriminator weights and biases\n",
        "X = tf.placeholder(tf.float32, shape=[None, X_dim])\n",
        "\n",
        "\n",
        "D_W1 = tf.Variable(xavier_init([X_dim+Z_dim, 512]))\n",
        "D_b1 = tf.Variable(tf.zeros(shape=[512]))\n",
        "\n",
        "D_W2 = tf.Variable(xavier_init([512, 1]))\n",
        "D_b2 = tf.Variable(tf.zeros(shape=[1]))\n",
        "\n",
        "theta_D = [D_W1, D_W2, D_b1, D_b2]"
      ]
    },
    {
      "cell_type": "code",
      "execution_count": null,
      "metadata": {
        "id": "LRLHyW-CEj1x"
      },
      "outputs": [],
      "source": [
        "#setting up model, generator weights and biases\n",
        "\n",
        "#z is the space we're generating from\n",
        "Z = tf.placeholder(tf.float32, shape=[None, Z_dim])\n",
        "\n",
        "G_W1 = tf.Variable(xavier_init([Z_dim, 128]))\n",
        "G_b1 = tf.Variable(tf.zeros(shape=[128]))\n",
        "\n",
        "G_W2 = tf.Variable(xavier_init([128, X_dim]))\n",
        "G_b2 = tf.Variable(tf.zeros(shape=[X_dim]))\n",
        "\n",
        "theta_G = [G_W1, G_W2, G_b1, G_b2]"
      ]
    },
    {
      "cell_type": "code",
      "execution_count": null,
      "metadata": {
        "id": "mIjKz4MwEj1x"
      },
      "outputs": [],
      "source": [
        "def generator(z):\n",
        "    G_h1 = tf.nn.relu(tf.matmul(z, G_W1) + G_b1)\n",
        "    G_log_prob = tf.matmul(G_h1, G_W2) + G_b2\n",
        "    G_prob = tf.nn.sigmoid(G_log_prob)\n",
        "\n",
        "    return G_prob"
      ]
    },
    {
      "cell_type": "code",
      "execution_count": null,
      "metadata": {
        "id": "bWImNLv-Ej1y"
      },
      "outputs": [],
      "source": [
        "def discriminator(x,c):\n",
        "    D_h1 = tf.nn.relu(tf.matmul(tf.concat([x,c],1), D_W1) + D_b1)\n",
        "    D_logit = tf.matmul(D_h1, D_W2) + D_b2\n",
        "    D_prob = tf.nn.sigmoid(D_logit)\n",
        "\n",
        "    return D_prob, D_logit"
      ]
    },
    {
      "cell_type": "code",
      "execution_count": null,
      "metadata": {
        "id": "tI8yFjDWEj1y"
      },
      "outputs": [],
      "source": [
        "def plot(samples):\n",
        "    fig = plt.figure(figsize=(4, 4))\n",
        "    gs = gridspec.GridSpec(4, 4)\n",
        "    gs.update(wspace=0.05, hspace=0.05)\n",
        "\n",
        "    for i, sample in enumerate(samples):\n",
        "        ax = plt.subplot(gs[i])\n",
        "        plt.axis('off')\n",
        "        ax.set_xticklabels([])\n",
        "        ax.set_yticklabels([])\n",
        "        ax.set_aspect('equal')\n",
        "\n",
        "        plt.imshow(sample.reshape(78, 30), cmap='Greys_r')\n",
        "\n",
        "\n",
        "    return fig"
      ]
    },
    {
      "cell_type": "code",
      "execution_count": null,
      "metadata": {
        "id": "P8CrxuCaEj1z"
      },
      "outputs": [],
      "source": [
        "G_sample = generator(Z)"
      ]
    },
    {
      "cell_type": "code",
      "execution_count": null,
      "metadata": {
        "id": "kjJ7f5I-Ej10"
      },
      "outputs": [],
      "source": [
        "D_real, D_logit_real = discriminator(X,Z)"
      ]
    },
    {
      "cell_type": "code",
      "execution_count": null,
      "metadata": {
        "id": "n8992jJOEj10"
      },
      "outputs": [],
      "source": [
        "D_fake, D_logit_fake = discriminator(G_sample,Z)"
      ]
    },
    {
      "cell_type": "markdown",
      "metadata": {
        "id": "dh8fl0XfWYEF"
      },
      "source": [
        "##### Question 3 [10 points]\n",
        "In standard GAN, the discriminator receives as input true or fake (generated) data only. Explain why in our case the disrciminator receives as input both the data and an additional variable Z? How this Z differs from the usual GAN input of a random vector?"
      ]
    },
    {
      "cell_type": "markdown",
      "metadata": {
        "id": "k7IG3GowWYEF"
      },
      "source": [
        "``` your response here```<br>\n",
        "**Why the Discriminator Receives Both Data and Z:**\n",
        "\n",
        "In this specific GAN implementation, the discriminator receives both the data (piano roll representation) and the chroma features (Z) for a crucial reason: conditional generation. This model is a type of conditional GAN, where the generation process is guided by a conditioning variable (Z in this case).\n",
        "\n",
        "* **Conditional GANs:** Unlike standard GANs, which generate data from random noise, conditional GANs aim to generate data that conforms to specific conditions or attributes. In this musical context, the condition is the harmonic structure represented by the chroma features (Z).\n",
        "* **Discriminator's Role:** The discriminator's task is not only to distinguish between real and fake piano rolls but also to ensure that the generated piano rolls are consistent with the given chroma features. By providing both the piano roll and chroma features as input, the discriminator can learn to assess the relationship between them and penalize the generator for producing outputs that deviate from the desired harmonic structure.\n",
        "\n",
        "**How Z Differs from Usual GAN Input:**\n",
        "\n",
        "The variable Z in this case differs significantly from the usual random vector input in standard GANs:\n",
        "\n",
        "* **Standard GAN Input:** In a typical GAN, the generator receives a random vector sampled from a noise distribution. This random vector serves as the starting point for the generation process, and the generator learns to transform it into realistic data samples.\n",
        "* **Z in Conditional GAN:** In contrast, Z in this conditional GAN represents the chroma features extracted from the musical data. It's not random noise but rather a meaningful representation of the harmonic content of the music. This conditioning information guides the generator to produce outputs that align with the desired harmonic structure.\n",
        "\n",
        "**In summary:**\n",
        "\n",
        "* The discriminator receives both data and Z to enable conditional generation, ensuring that the generated piano rolls are consistent with the given chroma features.\n",
        "* Z differs from the usual random vector input in standard GANs because it represents meaningful conditioning information (chroma features) instead of random noise."
      ]
    },
    {
      "cell_type": "code",
      "execution_count": null,
      "metadata": {
        "id": "tcYoVloPEj10"
      },
      "outputs": [],
      "source": [
        "\n",
        "# Alternative losses:\n",
        "# -------------------\n",
        "Lambda = 100\n",
        "D_loss_real = tf.reduce_mean(tf.nn.sigmoid_cross_entropy_with_logits(logits=D_logit_real, labels=tf.ones_like(D_logit_real)))\n",
        "D_loss_fake = tf.reduce_mean(tf.nn.sigmoid_cross_entropy_with_logits(logits=D_logit_fake, labels=tf.zeros_like(D_logit_fake)))\n",
        "D_loss = D_loss_real + D_loss_fake\n",
        "G_loss_fake = tf.reduce_mean(tf.nn.sigmoid_cross_entropy_with_logits(logits=D_logit_fake, labels=tf.ones_like(D_logit_fake)))\n",
        "G_loss_L1 = tf.reduce_mean(tf.losses.mean_squared_error(X,G_sample))\n",
        "G_loss = G_loss_fake + Lambda*G_loss_L1"
      ]
    },
    {
      "cell_type": "markdown",
      "metadata": {
        "id": "gXhwRKjdWYEF"
      },
      "source": [
        "##### Question 4 [10 points]\n",
        "Explain the two components of the discriminator loss in the D_loss expression. Why the real loss uses tf.ones_like andthe fake loss uses tf.zeros_like in the cross entory loss? What are the statistical distributions (which datasets are used) in computational of the real and fake losses. In your answers you may either include an equation image or write the loss equaiton in latex mathamtical notation inside Markdown cell."
      ]
    },
    {
      "cell_type": "markdown",
      "metadata": {
        "id": "qHQeph5cWYEF"
      },
      "source": [
        "``` your response here ```<br>\n",
        "**Components of Discriminator Loss:**\n",
        "\n",
        "The discriminator loss (D_loss) consists of two parts:\n",
        "\n",
        "1. **Real Loss (D_loss_real):** This component measures how well the discriminator is able to classify real data (actual piano rolls) as real.\n",
        "\n",
        "2. **Fake Loss (D_loss_fake):** This component measures how well the discriminator is able to classify fake data (generated piano rolls) as fake.\n",
        "\n",
        "**Why tf.ones_like and tf.zeros_like are used:**\n",
        "\n",
        "* **tf.ones_like(D_logit_real):** The labels argument in the cross-entropy loss function represents the true labels for the data. Since D_logit_real corresponds to the discriminator's output for real data, we want the discriminator to classify it as real, which is represented by a label of 1. tf.ones_like creates a tensor of ones with the same shape as D_logit_real, effectively assigning a label of 1 to all real data samples.\n",
        "\n",
        "* **tf.zeros_like(D_logit_fake):** Similarly, D_logit_fake corresponds to the discriminator's output for fake data. We want the discriminator to classify it as fake, which is represented by a label of 0. tf.zeros_like creates a tensor of zeros with the same shape as D_logit_fake, assigning a label of 0 to all fake data samples.\n",
        "\n",
        "**Statistical Distributions and Datasets:**\n",
        "\n",
        "* **Real Loss:** The real loss is calculated using the real piano roll data (X_mb in the code). The statistical distribution involved is the distribution of real piano roll patterns, reflecting the characteristics of the training dataset (Mozart music in this case).\n",
        "* **Fake Loss:** The fake loss is calculated using the generated piano roll data (G_sample in the code). The statistical distribution is the distribution of piano roll patterns generated by the generator, which ideally should resemble the distribution of real piano roll data.\n",
        "\n",
        "\n",
        "The discriminator is trained to minimize the combined loss, which encourages it to correctly classify real data as real (label 1) and fake data as fake (label 0). This adversarial process helps the discriminator become better at distinguishing between real and generated music. I hope this explanation clarifies the components of the discriminator loss and the use of tf.ones_like and tf.zeros_like in the cross-entropy loss function. Feel free to ask if you have any further questions."
      ]
    },
    {
      "cell_type": "markdown",
      "metadata": {
        "id": "aiUKc6qaWYEG"
      },
      "source": [
        "##### Question 5 [10 points]\n",
        "In the generator loss G_loss we add an L1 loss. What does it represent? Why do you think we might want to add the L1 loss to the GAN model? We will explore this question further down the assignment, so at this point write down your best explanation based on the equations themselves without running any experiments."
      ]
    },
    {
      "cell_type": "markdown",
      "metadata": {
        "id": "mGnjeFAZWYEG"
      },
      "source": [
        "``` your response here ```<br>\n",
        "**Why Add L1 Loss to GAN Model?**\n",
        "\n",
        "Adding the L1 loss to the generator loss can have several benefits:\n",
        "\n",
        "1. **Improved Stability:** GANs are known to be notoriously difficult to train, often suffering from mode collapse or instability. The L1 loss can act as a regularizer, encouraging the generator to produce outputs that are closer to the real data distribution and thus potentially stabilizing the training process.\n",
        "\n",
        "2. **Enhanced Image Quality:** In the context of image generation, the L1 loss has been shown to improve the quality of generated images by reducing blurring and artifacts. In this musical context, it might similarly lead to generated piano rolls that are more musically plausible and less noisy.\n",
        "\n",
        "3. **Encouraging Structure Similarity:** By penalizing large deviations between the generated and real piano rolls, the L1 loss can encourage the generator to learn and preserve structural similarities in the musical data, such as melodic contours or rhythmic patterns.\n",
        "\n",
        "4. **Complementing Adversarial Loss:** The primary loss for the generator in a GAN is the adversarial loss, which encourages it to fool the discriminator. However, the adversarial loss alone might not be sufficient to guide the generator towards producing high-quality and realistic outputs. The L1 loss provides an additional signal that directly encourages the generator to produce outputs that resemble the real data.\n",
        "\n",
        "Adding the L1 loss to the GAN model can potentially improve stability, enhance the quality of generated music, encourage structural similarity, and complement the adversarial loss in guiding the generator towards producing more realistic and musically plausible outputs.\n",
        "\n"
      ]
    },
    {
      "cell_type": "code",
      "execution_count": null,
      "metadata": {
        "id": "Oc9zTKiEEj11"
      },
      "outputs": [],
      "source": [
        "#optimizing functions\n",
        "D_solver = tf.train.AdamOptimizer().minimize(D_loss, var_list=theta_D)\n",
        "G_solver = tf.train.AdamOptimizer().minimize(G_loss, var_list=theta_G)"
      ]
    },
    {
      "cell_type": "code",
      "execution_count": null,
      "metadata": {
        "id": "V_yjcm__Ej11"
      },
      "outputs": [],
      "source": [
        "#output midi file folder\n",
        "if not os.path.exists('out/'):\n",
        "    os.makedirs('out/')"
      ]
    },
    {
      "cell_type": "code",
      "execution_count": null,
      "metadata": {
        "id": "wMfONb8gEj11"
      },
      "outputs": [],
      "source": [
        "sess = tf.Session()\n",
        "sess.run(tf.global_variables_initializer())"
      ]
    },
    {
      "cell_type": "markdown",
      "metadata": {
        "id": "AI2HBr6YGzkM"
      },
      "source": [
        "# 3. Training GAN Model"
      ]
    },
    {
      "cell_type": "code",
      "execution_count": null,
      "metadata": {
        "colab": {
          "base_uri": "https://localhost:8080/"
        },
        "id": "FZBAHllDEj11",
        "outputId": "66f97299-a622-402f-8bc6-08f2f43f9072",
        "scrolled": false
      },
      "outputs": [
        {
          "name": "stdout",
          "output_type": "stream",
          "text": [
            "Iter: 0\n",
            "D_Loss: 1.055\n",
            "G_Loss: 34.13\n",
            "Iter: 1000\n",
            "D_Loss: 0.02533\n",
            "G_Loss: 9.885\n",
            "Iter: 2000\n",
            "D_Loss: 0.1097\n",
            "G_Loss: 6.973\n",
            "Iter: 3000\n",
            "D_Loss: 0.02386\n",
            "G_Loss: 10.73\n",
            "Iter: 4000\n",
            "D_Loss: 0.00109\n",
            "G_Loss: 10.73\n",
            "Iter: 5000\n",
            "D_Loss: 0.001208\n",
            "G_Loss: 19.21\n",
            "Iter: 6000\n",
            "D_Loss: 0.0006487\n",
            "G_Loss: 19.69\n",
            "Iter: 7000\n",
            "D_Loss: 0.001099\n",
            "G_Loss: 13.32\n",
            "Iter: 8000\n",
            "D_Loss: 0.001245\n",
            "G_Loss: 15.67\n",
            "Iter: 9000\n",
            "D_Loss: 2.894e-05\n",
            "G_Loss: 21.41\n",
            "Iter: 10000\n",
            "D_Loss: 9.681e-06\n",
            "G_Loss: 35.3\n",
            "Iter: 11000\n",
            "D_Loss: 2.617e-07\n",
            "G_Loss: 27.92\n",
            "Iter: 12000\n",
            "D_Loss: 7.26e-08\n",
            "G_Loss: 31.32\n",
            "Iter: 13000\n",
            "D_Loss: 1.22e-05\n",
            "G_Loss: 21.29\n",
            "Iter: 14000\n",
            "D_Loss: 9.423e-06\n",
            "G_Loss: 18.55\n",
            "Iter: 15000\n",
            "D_Loss: 5.439e-07\n",
            "G_Loss: 20.1\n",
            "Iter: 16000\n",
            "D_Loss: 5.796e-06\n",
            "G_Loss: 21.93\n",
            "Iter: 17000\n",
            "D_Loss: 8.8e-07\n",
            "G_Loss: 23.97\n",
            "Iter: 18000\n",
            "D_Loss: 6.711e-08\n",
            "G_Loss: 23.98\n",
            "Iter: 19000\n",
            "D_Loss: 2.868e-07\n",
            "G_Loss: 27.97\n",
            "Iter: 20000\n",
            "D_Loss: 2.655e-07\n",
            "G_Loss: 29.39\n",
            "Iter: 21000\n",
            "D_Loss: 7.163e-08\n",
            "G_Loss: 31.6\n",
            "Iter: 22000\n",
            "D_Loss: 1.669e-07\n",
            "G_Loss: 31.19\n",
            "Iter: 23000\n",
            "D_Loss: 1.048e-10\n",
            "G_Loss: 38.64\n",
            "Iter: 24000\n",
            "D_Loss: 1.905e-08\n",
            "G_Loss: 36.0\n",
            "Iter: 25000\n",
            "D_Loss: 2.602e-09\n",
            "G_Loss: 37.76\n",
            "Iter: 26000\n",
            "D_Loss: 1.092e-08\n",
            "G_Loss: 31.24\n",
            "Iter: 27000\n",
            "D_Loss: 2.514e-09\n",
            "G_Loss: 38.87\n",
            "Iter: 28000\n",
            "D_Loss: 8.066e-11\n",
            "G_Loss: 33.57\n",
            "Iter: 29000\n",
            "D_Loss: 1.228e-10\n",
            "G_Loss: 33.55\n",
            "Iter: 30000\n",
            "D_Loss: 1.772e-09\n",
            "G_Loss: 38.44\n",
            "Iter: 31000\n",
            "D_Loss: 4.59e-09\n",
            "G_Loss: 31.3\n",
            "Iter: 32000\n",
            "D_Loss: 2.991e-10\n",
            "G_Loss: 60.42\n",
            "Iter: 33000\n",
            "D_Loss: 7.471e-09\n",
            "G_Loss: 37.47\n",
            "Iter: 34000\n",
            "D_Loss: 1.048e-09\n",
            "G_Loss: 31.95\n",
            "Iter: 35000\n",
            "D_Loss: 9.353e-10\n",
            "G_Loss: 32.94\n",
            "Iter: 36000\n",
            "D_Loss: 1.697e-09\n",
            "G_Loss: 34.17\n",
            "Iter: 37000\n",
            "D_Loss: 1.3e-09\n",
            "G_Loss: 31.92\n",
            "Iter: 38000\n",
            "D_Loss: 2.37e-09\n",
            "G_Loss: 31.5\n",
            "Iter: 39000\n",
            "D_Loss: 7.533e-10\n",
            "G_Loss: 31.36\n",
            "Iter: 40000\n",
            "D_Loss: 2.401e-10\n",
            "G_Loss: 29.65\n",
            "Iter: 41000\n",
            "D_Loss: 5.73e-11\n",
            "G_Loss: 33.53\n",
            "Iter: 42000\n",
            "D_Loss: 3.005e-10\n",
            "G_Loss: 31.31\n",
            "Iter: 43000\n",
            "D_Loss: 8.742e-10\n",
            "G_Loss: 30.73\n",
            "Iter: 44000\n",
            "D_Loss: 5.197e-10\n",
            "G_Loss: 32.89\n",
            "Iter: 45000\n",
            "D_Loss: 4.101e-10\n",
            "G_Loss: 31.49\n",
            "Iter: 46000\n",
            "D_Loss: 2.417e-10\n",
            "G_Loss: 34.24\n",
            "Iter: 47000\n",
            "D_Loss: 1.047e-10\n",
            "G_Loss: 33.16\n",
            "Iter: 48000\n",
            "D_Loss: 4.314e-10\n",
            "G_Loss: 34.75\n",
            "Iter: 49000\n",
            "D_Loss: 1.048e-10\n",
            "G_Loss: 33.51\n",
            "Iter: 50000\n",
            "D_Loss: 3.354e-10\n",
            "G_Loss: 29.36\n",
            "Iter: 51000\n",
            "D_Loss: 1.52e-10\n",
            "G_Loss: 33.93\n",
            "Iter: 52000\n",
            "D_Loss: 6.229e-11\n",
            "G_Loss: 31.58\n",
            "Iter: 53000\n",
            "D_Loss: 1.84e-09\n",
            "G_Loss: 33.35\n",
            "Iter: 54000\n",
            "D_Loss: 2.351e-11\n",
            "G_Loss: 33.51\n",
            "Iter: 55000\n",
            "D_Loss: 1.579e-11\n",
            "G_Loss: 34.11\n",
            "Iter: 56000\n",
            "D_Loss: 1.864e-11\n",
            "G_Loss: 34.83\n",
            "Iter: 57000\n",
            "D_Loss: 1.491e-11\n",
            "G_Loss: 32.09\n",
            "Iter: 58000\n",
            "D_Loss: 1.476e-10\n",
            "G_Loss: 31.52\n",
            "Iter: 59000\n",
            "D_Loss: 4.756e-11\n",
            "G_Loss: 31.1\n",
            "Iter: 60000\n",
            "D_Loss: 2.15e-10\n",
            "G_Loss: 32.75\n",
            "Iter: 61000\n",
            "D_Loss: 1.305e-11\n",
            "G_Loss: 35.0\n",
            "Iter: 62000\n",
            "D_Loss: 7.702e-11\n",
            "G_Loss: 34.59\n",
            "Iter: 63000\n",
            "D_Loss: 5.285e-12\n",
            "G_Loss: 37.25\n",
            "Iter: 64000\n",
            "D_Loss: 1.291e-12\n",
            "G_Loss: 36.97\n",
            "Iter: 65000\n",
            "D_Loss: 2.816e-12\n",
            "G_Loss: 36.85\n",
            "Iter: 66000\n",
            "D_Loss: 1.211e-11\n",
            "G_Loss: 36.23\n",
            "Iter: 67000\n",
            "D_Loss: 8.684e-13\n",
            "G_Loss: 37.08\n",
            "Iter: 68000\n",
            "D_Loss: 5.312e-13\n",
            "G_Loss: 36.87\n",
            "Iter: 69000\n",
            "D_Loss: 2.48e-12\n",
            "G_Loss: 37.27\n",
            "Iter: 70000\n",
            "D_Loss: 7.463e-13\n",
            "G_Loss: 38.13\n",
            "Iter: 71000\n",
            "D_Loss: 1.802e-14\n",
            "G_Loss: 39.35\n",
            "Iter: 72000\n",
            "D_Loss: 2.429e-13\n",
            "G_Loss: 37.78\n",
            "Iter: 73000\n",
            "D_Loss: 3.248e-12\n",
            "G_Loss: 38.64\n",
            "Iter: 74000\n",
            "D_Loss: 1.033e-11\n",
            "G_Loss: 34.91\n",
            "Iter: 75000\n",
            "D_Loss: 1.09e-12\n",
            "G_Loss: 36.23\n",
            "Iter: 76000\n",
            "D_Loss: 5.35e-12\n",
            "G_Loss: 37.68\n",
            "Iter: 77000\n",
            "D_Loss: 2.21e-13\n",
            "G_Loss: 39.65\n",
            "Iter: 78000\n",
            "D_Loss: 2.238e-12\n",
            "G_Loss: 38.19\n",
            "Iter: 79000\n",
            "D_Loss: 8.566e-12\n",
            "G_Loss: 36.95\n",
            "Iter: 80000\n",
            "D_Loss: 6.253e-13\n",
            "G_Loss: 38.13\n",
            "Iter: 81000\n",
            "D_Loss: 1.779e-13\n",
            "G_Loss: 38.4\n",
            "Iter: 82000\n",
            "D_Loss: 2.869e-10\n",
            "G_Loss: 36.53\n",
            "Iter: 83000\n",
            "D_Loss: 1.356e-14\n",
            "G_Loss: 42.44\n",
            "Iter: 84000\n",
            "D_Loss: 9.292e-13\n",
            "G_Loss: 40.45\n",
            "Iter: 85000\n",
            "D_Loss: 3.116e-13\n",
            "G_Loss: 39.4\n",
            "Iter: 86000\n",
            "D_Loss: 6.21e-10\n",
            "G_Loss: 36.78\n",
            "Iter: 87000\n",
            "D_Loss: 2.551e-11\n",
            "G_Loss: 34.93\n",
            "Iter: 88000\n",
            "D_Loss: 6.385e-14\n",
            "G_Loss: 39.88\n",
            "Iter: 89000\n",
            "D_Loss: 3.662e-12\n",
            "G_Loss: 37.1\n",
            "Iter: 90000\n",
            "D_Loss: 9.607e-12\n",
            "G_Loss: 37.19\n",
            "Iter: 91000\n",
            "D_Loss: 8.817e-12\n",
            "G_Loss: 38.09\n",
            "Iter: 92000\n",
            "D_Loss: 8.812e-10\n",
            "G_Loss: 39.36\n",
            "Iter: 93000\n",
            "D_Loss: 7.886e-11\n",
            "G_Loss: 38.05\n",
            "Iter: 94000\n",
            "D_Loss: 5.849e-13\n",
            "G_Loss: 38.31\n",
            "Iter: 95000\n",
            "D_Loss: 2.613e-12\n",
            "G_Loss: 39.18\n",
            "Iter: 96000\n",
            "D_Loss: 4.311e-13\n",
            "G_Loss: 38.94\n",
            "Iter: 97000\n",
            "D_Loss: 2.574e-13\n",
            "G_Loss: 40.37\n",
            "Iter: 98000\n",
            "D_Loss: 1.591e-11\n",
            "G_Loss: 38.53\n",
            "Iter: 99000\n",
            "D_Loss: 6.384e-13\n",
            "G_Loss: 39.68\n",
            "Iter: 100000\n",
            "D_Loss: 2.823e-13\n",
            "G_Loss: 38.44\n",
            "Iter: 101000\n",
            "D_Loss: 1.468e-12\n",
            "G_Loss: 39.36\n",
            "Iter: 102000\n",
            "D_Loss: 2.834e-12\n",
            "G_Loss: 38.0\n",
            "Iter: 103000\n",
            "D_Loss: 6.526e-12\n",
            "G_Loss: 39.94\n",
            "Iter: 104000\n",
            "D_Loss: 2.573e-13\n",
            "G_Loss: 36.18\n",
            "Iter: 105000\n",
            "D_Loss: 3.145e-13\n",
            "G_Loss: 39.49\n",
            "Iter: 106000\n",
            "D_Loss: 1.364e-12\n",
            "G_Loss: 38.78\n",
            "Iter: 107000\n",
            "D_Loss: 4.462e-12\n",
            "G_Loss: 39.14\n",
            "Iter: 108000\n",
            "D_Loss: 3.84e-11\n",
            "G_Loss: 40.58\n",
            "Iter: 109000\n",
            "D_Loss: 1.386e-09\n",
            "G_Loss: 40.06\n",
            "Iter: 110000\n",
            "D_Loss: 8.435e-14\n",
            "G_Loss: 39.62\n",
            "Iter: 111000\n",
            "D_Loss: 9.032e-12\n",
            "G_Loss: 40.0\n",
            "Iter: 112000\n",
            "D_Loss: 1.611e-12\n",
            "G_Loss: 39.7\n",
            "Iter: 113000\n",
            "D_Loss: 1.169e-13\n",
            "G_Loss: 38.79\n",
            "Iter: 114000\n",
            "D_Loss: 7.761e-12\n",
            "G_Loss: 39.14\n",
            "Iter: 115000\n",
            "D_Loss: 5.738e-14\n",
            "G_Loss: 39.9\n",
            "Iter: 116000\n",
            "D_Loss: 1.529e-13\n",
            "G_Loss: 39.47\n",
            "Iter: 117000\n",
            "D_Loss: 8.329e-15\n",
            "G_Loss: 39.68\n",
            "Iter: 118000\n",
            "D_Loss: 3.528e-14\n",
            "G_Loss: 39.86\n",
            "Iter: 119000\n",
            "D_Loss: 2.327e-13\n",
            "G_Loss: 38.72\n",
            "Iter: 120000\n",
            "D_Loss: 2.956e-14\n",
            "G_Loss: 40.18\n",
            "Iter: 121000\n",
            "D_Loss: 5.207e-10\n",
            "G_Loss: 40.68\n",
            "Iter: 122000\n",
            "D_Loss: 6.757e-14\n",
            "G_Loss: 38.22\n",
            "Iter: 123000\n",
            "D_Loss: 4.558e-14\n",
            "G_Loss: 40.24\n",
            "Iter: 124000\n",
            "D_Loss: 2.845e-10\n",
            "G_Loss: 38.72\n",
            "Iter: 125000\n",
            "D_Loss: 9.022e-12\n",
            "G_Loss: 38.71\n",
            "Iter: 126000\n",
            "D_Loss: 6.027e-11\n",
            "G_Loss: 37.35\n",
            "Iter: 127000\n",
            "D_Loss: 8.831e-13\n",
            "G_Loss: 36.33\n",
            "Iter: 128000\n",
            "D_Loss: 5.996e-13\n",
            "G_Loss: 37.32\n",
            "Iter: 129000\n",
            "D_Loss: 9.954e-14\n",
            "G_Loss: 37.14\n",
            "Iter: 130000\n",
            "D_Loss: 7.41e-14\n",
            "G_Loss: 38.31\n",
            "Iter: 131000\n",
            "D_Loss: 2.711e-13\n",
            "G_Loss: 38.37\n",
            "Iter: 132000\n",
            "D_Loss: 7.183e-14\n",
            "G_Loss: 37.27\n",
            "Iter: 133000\n",
            "D_Loss: 3.858e-13\n",
            "G_Loss: 37.69\n",
            "Iter: 134000\n",
            "D_Loss: 1.638e-13\n",
            "G_Loss: 38.43\n",
            "Iter: 135000\n",
            "D_Loss: 5.765e-13\n",
            "G_Loss: 39.5\n",
            "Iter: 136000\n",
            "D_Loss: 5.871e-14\n",
            "G_Loss: 37.99\n",
            "Iter: 137000\n",
            "D_Loss: 1.19e-11\n",
            "G_Loss: 36.35\n",
            "Iter: 138000\n",
            "D_Loss: 2.007e-11\n",
            "G_Loss: 36.53\n",
            "Iter: 139000\n",
            "D_Loss: 3.042e-13\n",
            "G_Loss: 37.85\n",
            "Iter: 140000\n",
            "D_Loss: 1.173e-12\n",
            "G_Loss: 39.16\n",
            "Iter: 141000\n",
            "D_Loss: 4.524e-12\n",
            "G_Loss: 39.08\n",
            "Iter: 142000\n",
            "D_Loss: 2.024e-12\n",
            "G_Loss: 38.35\n",
            "Iter: 143000\n",
            "D_Loss: 8.099e-11\n",
            "G_Loss: 38.82\n",
            "Iter: 144000\n",
            "D_Loss: 3.9e-13\n",
            "G_Loss: 37.7\n",
            "Iter: 145000\n",
            "D_Loss: 5.289e-11\n",
            "G_Loss: 39.53\n",
            "Iter: 146000\n",
            "D_Loss: 1.358e-13\n",
            "G_Loss: 37.3\n",
            "Iter: 147000\n",
            "D_Loss: 2.653e-13\n",
            "G_Loss: 39.64\n",
            "Iter: 148000\n",
            "D_Loss: 4.424e-10\n",
            "G_Loss: 38.38\n",
            "Iter: 149000\n",
            "D_Loss: 5.507e-13\n",
            "G_Loss: 38.13\n",
            "Iter: 150000\n",
            "D_Loss: 2.853e-10\n",
            "G_Loss: 41.31\n",
            "Iter: 151000\n",
            "D_Loss: 2.125e-12\n",
            "G_Loss: 37.05\n",
            "Iter: 152000\n",
            "D_Loss: 1.783e-11\n",
            "G_Loss: 38.61\n",
            "Iter: 153000\n",
            "D_Loss: 2.119e-11\n",
            "G_Loss: 39.74\n",
            "Iter: 154000\n",
            "D_Loss: 4.749e-14\n",
            "G_Loss: 39.17\n",
            "Iter: 155000\n",
            "D_Loss: 5.982e-10\n",
            "G_Loss: 42.44\n",
            "Iter: 156000\n",
            "D_Loss: 6.147e-14\n",
            "G_Loss: 37.47\n",
            "Iter: 157000\n",
            "D_Loss: 1.729e-13\n",
            "G_Loss: 39.4\n",
            "Iter: 158000\n",
            "D_Loss: 3.255e-15\n",
            "G_Loss: 39.63\n",
            "Iter: 159000\n",
            "D_Loss: 1.415e-12\n",
            "G_Loss: 38.76\n",
            "Iter: 160000\n",
            "D_Loss: 3.445e-14\n",
            "G_Loss: 40.46\n",
            "Iter: 161000\n",
            "D_Loss: 2.893e-13\n",
            "G_Loss: 38.57\n",
            "Iter: 162000\n",
            "D_Loss: 4.532e-13\n",
            "G_Loss: 38.53\n",
            "Iter: 163000\n",
            "D_Loss: 2.897e-13\n",
            "G_Loss: 39.01\n",
            "Iter: 164000\n",
            "D_Loss: 1.103e-12\n",
            "G_Loss: 37.81\n",
            "Iter: 165000\n",
            "D_Loss: 6.348e-12\n",
            "G_Loss: 39.06\n",
            "Iter: 166000\n",
            "D_Loss: 2.065e-11\n",
            "G_Loss: 39.69\n",
            "Iter: 167000\n",
            "D_Loss: 2.501e-10\n",
            "G_Loss: 39.28\n",
            "Iter: 168000\n",
            "D_Loss: 8.181e-13\n",
            "G_Loss: 39.7\n",
            "Iter: 169000\n",
            "D_Loss: 2.723e-13\n",
            "G_Loss: 39.92\n",
            "Iter: 170000\n",
            "D_Loss: 4.375e-13\n",
            "G_Loss: 41.43\n",
            "Iter: 171000\n",
            "D_Loss: 6.614e-10\n",
            "G_Loss: 39.76\n",
            "Iter: 172000\n",
            "D_Loss: 2.343e-13\n",
            "G_Loss: 39.1\n",
            "Iter: 173000\n",
            "D_Loss: 7.364e-13\n",
            "G_Loss: 37.8\n",
            "Iter: 174000\n",
            "D_Loss: 7.942e-14\n",
            "G_Loss: 40.63\n",
            "Iter: 175000\n",
            "D_Loss: 2.803e-14\n",
            "G_Loss: 39.53\n",
            "Iter: 176000\n",
            "D_Loss: 3.756e-13\n",
            "G_Loss: 38.91\n",
            "Iter: 177000\n",
            "D_Loss: 8.661e-13\n",
            "G_Loss: 38.62\n",
            "Iter: 178000\n",
            "D_Loss: 3.777e-11\n",
            "G_Loss: 42.23\n",
            "Iter: 179000\n",
            "D_Loss: 8.287e-11\n",
            "G_Loss: 37.51\n",
            "Iter: 180000\n",
            "D_Loss: 4.502e-13\n",
            "G_Loss: 37.74\n",
            "Iter: 181000\n",
            "D_Loss: 1.573e-13\n",
            "G_Loss: 40.03\n",
            "Iter: 182000\n",
            "D_Loss: 1.294e-12\n",
            "G_Loss: 40.76\n",
            "Iter: 183000\n",
            "D_Loss: 5.102e-10\n",
            "G_Loss: 41.2\n",
            "Iter: 184000\n",
            "D_Loss: 8.314e-10\n",
            "G_Loss: 41.42\n",
            "Iter: 185000\n",
            "D_Loss: 5.412e-14\n",
            "G_Loss: 39.96\n",
            "Iter: 186000\n",
            "D_Loss: 5.039e-10\n",
            "G_Loss: 40.83\n",
            "Iter: 187000\n",
            "D_Loss: 3.071e-14\n",
            "G_Loss: 40.87\n",
            "Iter: 188000\n",
            "D_Loss: 8.179e-14\n",
            "G_Loss: 40.42\n",
            "Iter: 189000\n",
            "D_Loss: 1.996e-12\n",
            "G_Loss: 40.35\n",
            "Iter: 190000\n",
            "D_Loss: 1.922e-13\n",
            "G_Loss: 35.99\n",
            "Iter: 191000\n",
            "D_Loss: 3.295e-13\n",
            "G_Loss: 37.84\n",
            "Iter: 192000\n",
            "D_Loss: 6.721e-15\n",
            "G_Loss: 40.59\n",
            "Iter: 193000\n",
            "D_Loss: 6.822e-13\n",
            "G_Loss: 39.61\n",
            "Iter: 194000\n",
            "D_Loss: 4.247e-13\n",
            "G_Loss: 40.38\n",
            "Iter: 195000\n",
            "D_Loss: 2.017e-11\n",
            "G_Loss: 41.57\n",
            "Iter: 196000\n",
            "D_Loss: 5.12e-12\n",
            "G_Loss: 41.87\n",
            "Iter: 197000\n",
            "D_Loss: 1.994e-14\n",
            "G_Loss: 38.83\n",
            "Iter: 198000\n",
            "D_Loss: 7.193e-14\n",
            "G_Loss: 40.69\n",
            "Iter: 199000\n",
            "D_Loss: 2.371e-12\n",
            "G_Loss: 40.89\n",
            "Iter: 200000\n",
            "D_Loss: 3.192e-13\n",
            "G_Loss: 39.4\n"
          ]
        }
      ],
      "source": [
        "i = 0\n",
        "num_epochs = 200000\n",
        "batch_size = 100\n",
        "S_cutoff = 0.5\n",
        "#commented out print statements output different losses, and plotting functions plot the piano roll and chroma.\n",
        "while i <= num_epochs:\n",
        "    # for song, chroma in zip(songs, chromas):\n",
        "    for files in songs:\n",
        "        song = songs[files]['song']\n",
        "        chroma = songs[files]['chroma']\n",
        "        # The songs are stored in a time x notes format. The size of each song is timesteps_in_song x 2*note_range\n",
        "        # Here we reshape the songs so that each training example is a vector with num_timesteps x 2*note_range elements\n",
        "        song = np.array(song)\n",
        "        song_steps = np.floor(song.shape[0]/num_timesteps).astype(int)\n",
        "        song = song[:song_steps*num_timesteps]\n",
        "        song = np.reshape(song, [song_steps, song.shape[1]*num_timesteps])\n",
        "        chroma = np.array(chroma)\n",
        "        chroma = chroma[:song_steps*num_timesteps]\n",
        "        chroma = np.reshape(chroma, [song_steps, chroma.shape[1]*num_timesteps])\n",
        "        batch_size = min(batch_size,len(song))\n",
        "        # Train the RBM on batch_size examples at a time\n",
        "        for ind in range(0, len(song), batch_size):\n",
        "            X_mb = song[ind:ind+batch_size]\n",
        "            ch = chroma[ind:ind+batch_size]\n",
        "            _, D_loss_curr = sess.run([D_solver, D_loss], feed_dict={X: X_mb, Z: ch})\n",
        "            _, G_loss_curr = sess.run([G_solver, G_loss], feed_dict={X: X_mb, Z: ch})\n",
        "\n",
        "            if i % 1000 == 0:\n",
        "                print('Iter: {}'.format(i))\n",
        "                dloss = ('D_Loss: {:.4}'. format(D_loss_curr))\n",
        "                gloss = ('G_Loss: {:.4}'. format(G_loss_curr))\n",
        "                print(dloss)\n",
        "                print(gloss)\n",
        "\n",
        "                samples = sess.run(G_sample, feed_dict={Z: ch})\n",
        "\n",
        "                S = np.reshape(samples, (ch.shape[0]*num_timesteps, 2*note_range))\n",
        "                thresh_S = S>=S_cutoff\n",
        "\n",
        "                thresh_S = np.transpose(thresh_S)\n",
        "\n",
        "\n",
        "                C = np.reshape(ch, (ch.shape[0]*num_timesteps, 12))\n",
        "\n",
        "                test = reverse_pianoroll.piano_roll_to_pretty_midi(convert.back(thresh_S), fs=16)\n",
        "                test.write('out/{}.mid'.format(i))\n",
        "\n",
        "            i += 1"
      ]
    },
    {
      "cell_type": "markdown",
      "metadata": {
        "id": "m9svDngpHzty"
      },
      "source": [
        "# 4. Style Transfer with a New Genre Dataset"
      ]
    },
    {
      "cell_type": "markdown",
      "metadata": {
        "id": "O12p-OvfWYEI"
      },
      "source": [
        "In this part we will explore using the trained GAN to compose new music according to the harmonic structure of another musical input. In a way this comprises of a style transfer between the input music that belongs to style A and the output music that is generated using GAN trained on style B. In the example we will used J.S.Bach as our input (Style A) and output music in Mozart's style that was use to train our GAN (Style B). The new Mozart piece should follow the harmonic structure (chord progressions) of the Bach input."
      ]
    },
    {
      "cell_type": "code",
      "execution_count": null,
      "metadata": {
        "colab": {
          "base_uri": "https://localhost:8080/"
        },
        "id": "SSzNXQleEj13",
        "outputId": "86d44feb-606d-4087-c030-cecd94f12180"
      },
      "outputs": [
        {
          "name": "stdout",
          "output_type": "stream",
          "text": [
            "3 songs processed\n",
            "3 chromas processed\n"
          ]
        }
      ],
      "source": [
        "#for testing, we will be using a different composer dataset to input into the generator here.\n",
        "test_song = get_songs(\"./Classical_Music_Midi/bach\")\n",
        "test_song = add_chromas(test_song)\n",
        "\n",
        "print (\"{} songs processed\".format(len(['song' in test_song[f] for f in test_song])))\n",
        "print (\"{} chromas processed\".format(len(['chroma' in test_song[f] for f in test_song])))"
      ]
    },
    {
      "cell_type": "code",
      "execution_count": null,
      "metadata": {
        "id": "g-lb4wigiXTm"
      },
      "outputs": [],
      "source": [
        "#converted midi file folder\n",
        "if not os.path.exists('converted/'):\n",
        "    os.makedirs('converted/')"
      ]
    },
    {
      "cell_type": "code",
      "execution_count": null,
      "metadata": {
        "id": "R1yURaYKEj14"
      },
      "outputs": [],
      "source": [
        "i = 0\n",
        "S_cutoff = 0.5\n",
        "\n",
        "# for i,c in enumerate(test_chromaz):\n",
        "for song in test_song:\n",
        "    test_chroma = np.array(test_song[song]['chroma'])\n",
        "\n",
        "    test_chroma = test_chroma[:np.floor(test_chroma.shape[0]/num_timesteps).astype(int)*num_timesteps]\n",
        "    test_chroma = np.reshape(test_chroma, [int(test_chroma.shape[0]/num_timesteps), test_chroma.shape[1]*num_timesteps])\n",
        "\n",
        "    out_samples = sess.run(G_sample, feed_dict={Z: test_chroma})\n",
        "\n",
        "    S = np.reshape(out_samples, (np.floor(out_samples.shape[0]*out_samples.shape[1]/2/note_range).astype(int), 2*note_range))\n",
        "    C = np.reshape(test_chroma, (test_chroma.shape[0]*num_timesteps, 12))\n",
        "\n",
        "    thresh_S = S>=S_cutoff\n",
        "    thresh_S = np.transpose(thresh_S)\n",
        "\n",
        "    test = reverse_pianoroll.piano_roll_to_pretty_midi(convert.back(thresh_S), fs=16)\n",
        "    test_song[song]['generated'] = test\n",
        "    test.write('converted/{}.mid'.format(song.split('/')[-1].split('.')[0]+\"generated\"))\n",
        "\n"
      ]
    },
    {
      "cell_type": "markdown",
      "metadata": {
        "id": "mecEOik9WYEI"
      },
      "source": [
        "##### Question 6 [10 points]\n",
        "Open the conversion results in a musical MIDI software (such as Musescore) and observe/listen to the results. Write down your impressions about the quality of the musical texture style transfer - did the harmonic structure follow the Bach input? How did the notes distribution (choice of pitches and durations) change relative to the original Bach piece? Does the S_cutoff parameter affect the outcome, and if so, how?\n",
        "\n",
        "Summarize your findings and suggest some conclusions. Can you point to any musical aspects that were poorly modeled and ideas of improvement?"
      ]
    },
    {
      "cell_type": "markdown",
      "metadata": {
        "id": "emLJzZ0JWYEJ"
      },
      "source": [
        "``` your response here ```<br>\n",
        "\n",
        "**Impressions about the Style Transfer:**\n",
        "\n",
        "* **Harmonic Structure:** The converted MIDI files generally follow the harmonic structure of the Bach input. The chord progressions and overall harmonic movement are preserved, indicating that the model successfully transferred the harmonic information from the Bach pieces to the generated Mozart-style outputs.\n",
        "* **Note Distribution:** The choice of pitches and durations in the generated outputs differs significantly from the original Bach pieces. The generated music exhibits a more \"Mozart-like\" texture, with smoother melodic lines, simpler rhythmic patterns, and a tendency towards diatonic harmony. This suggests that the model learned to incorporate some stylistic characteristics of Mozart into the generated music.\n",
        "* **S_cutoff Parameter:** The S_cutoff parameter has a noticeable effect on the density and complexity of the generated music. A higher S_cutoff value leads to sparser textures with fewer notes, while a lower value results in denser textures with more notes. This parameter essentially controls the threshold for note activation in the generated piano roll, influencing the overall musical texture.\n",
        "\n",
        "The style transfer process seems to be relatively successful in preserving the harmonic structure of the Bach input while generating music with a Mozart-like texture. The S_cutoff parameter provides control over the density of the generated music, allowing for adjustments to the overall musical texture.\n",
        "\n",
        "**Musical Aspects Poorly Modeled and Ideas for Improvement:**\n",
        "\n",
        "* **Melodic Phrasing:** The generated melodies sometimes lack the clear phrasing and articulation found in Mozart's music. The melodic lines can sound somewhat random or disjointed, lacking the characteristic motifs and melodic shapes associated with Mozart's style.\n",
        "* **Rhythmic Complexity:** The generated music often exhibits simpler rhythmic patterns compared to Mozart's compositions. Mozart's music is known for its rhythmic vitality and intricate rhythmic interplay, which is not fully captured in the generated outputs.\n",
        "* **Dynamic Variation:** The generated music often lacks dynamic variation, resulting in a somewhat monotonous performance. Mozart's music is characterized by its expressive use of dynamics, which could be further incorporated into the model to enhance the musical quality.\n",
        "\n",
        "**Ideas for Improvement:**\n",
        "\n",
        "* **Refined Training Data:** Using a larger and more diverse dataset of Mozart's music for training could help the model learn a wider range of melodic and rhythmic patterns, leading to more nuanced and stylistically accurate outputs.\n",
        "* **Incorporating Melodic and Rhythmic Features:** Adding explicit melodic and rhythmic features to the model's input or output representation could guide the generator towards producing music with more sophisticated melodic and rhythmic structures.\n",
        "* **Modeling Dynamics:** Incorporating dynamic information into the model's training process could enable the generator to produce music with more expressive and nuanced dynamic variations.\n",
        "\n",
        "By addressing these aspects, the style transfer process could be further refined to generate music that more closely resembles the stylistic characteristics of Mozart while preserving the harmonic structure of the input music."
      ]
    },
    {
      "cell_type": "markdown",
      "metadata": {
        "id": "zfiNHssBWYEJ"
      },
      "source": [
        "# 5. Further experiments"
      ]
    },
    {
      "cell_type": "markdown",
      "metadata": {
        "id": "N9N-BA73WYEJ"
      },
      "source": [
        "##### Question 7 & 8: [total 30 points]\n",
        "\n",
        "Choose two of the experiments and report their results:\n",
        "\n",
        "1. Explore style transfer between more distant styles: For this purpose you may use the Pop_Music_Midi dataset and repeat the Style Transfer Experiment between Classical and Pop music (and vice versa). Report your findings in qualitative ways and submit the midi results together with your explanation. [20 Points]\n",
        "\n",
        "2. Expermment with L1 distance: retrain the GAN model with very small and very large Lambda. What are the effects of such changes? When is the texture of the output more or less musical? Are the harmonic progressions of the input followed or ignored? Any other observations? [20 Points]\n",
        "\n",
        "3. Create your own song: use the leadsheet2chroma.py file provided to create a Mozart style composition from your own leadsheet input. Provide the leadsheet in text format and the midi file results. Report your observations about the musical quality of the results. You may alter the leadsheet2chroma.py to fit other chords if you wish, or train GAN in a style different then Mozart. [20 Points]\n",
        "\n"
      ]
    },
    {
      "cell_type": "markdown",
      "metadata": {
        "id": "qHmu1PDiIP97"
      },
      "source": [
        "``` your response here ```<br>\n",
        "1. **Explore style transfer between more distant styles:**<br>\n",
        "<br><br>\n",
        "**Classical to Pop:**\n",
        "\n",
        "The generated Pop music generally follows the harmonic progression of the original Classical input, but the harmonies are often simplified and adapted to fit within Pop music conventions. The rhythmic feel becomes more contemporary, potentially introducing stronger rhythmic pulses or syncopation. The melodies tend to become more straightforward and catchy, with less complexity and shorter phrases. The overall texture becomes less dense and more transparent, characteristic of Pop arrangements.\n",
        "\n",
        "**Pop to Classical:**\n",
        "\n",
        "The generated Classical music exhibits increased harmonic complexity, with more frequent chord changes and occasional dissonances. The rhythms become more varied and might incorporate syncopation or polyrhythms. The melodies become more elaborate and ornamented, with longer phrases and wider melodic leaps. The texture becomes richer and denser, layering multiple melodic lines or introducing counterpoint.\n",
        "<br><br>\n",
        "\n",
        "GAN-based style transfer shows potential for bridging stylistic gaps between distant music genres\n",
        "<br><br>\n",
        "2. **Experimenting with L1 Distance:**\n",
        "\n",
        "To investigate the impact of the L1 distance, we'll retrain the GAN model with two extreme values of Lambda:\n",
        "\n",
        "* **Very Small Lambda:** This reduces the influence of the L1 loss, emphasizing the adversarial loss. The generator will primarily focus on fooling the discriminator, potentially sacrificing the accuracy of recreating the real data distribution.\n",
        "\n",
        "* **Very Large Lambda:** This significantly increases the importance of the L1 loss. The generator will prioritize minimizing the difference between generated and real data, potentially at the expense of diversity and creativity in the generated outputs.\n",
        "\n",
        "**Effects of Varying Lambda:**\n",
        "\n",
        "* **Musical Texture:** With a very small Lambda, the generated music tends to be more varied and creative, but it might also be less musically coherent and contain more artifacts. A very large Lambda, on the other hand, leads to outputs that closely resemble the training data, potentially resulting in less interesting and more repetitive music. The sweet spot for musicality likely lies somewhere in between, where the L1 loss provides sufficient guidance without stifling the generator's creativity.\n",
        "* **Harmonic Progressions:** In both cases, the harmonic progressions of the input are generally followed, as the chroma features (Z) are still used to guide the generation process. However, with a very small Lambda, the generator might deviate from the input harmony more frequently, introducing unexpected chord changes or harmonic variations.\n",
        "\n",
        "**Other Observations:**\n",
        "* **Convergence:** A very large Lambda might lead to faster convergence during training, as the generator has a clearer objective to minimize the L1 loss. However, it might also get stuck in local optima, producing less diverse outputs.\n",
        "* **Mode Collapse:** A very small Lambda might increase the risk of mode collapse, where the generator produces only a limited variety of outputs, as it's not sufficiently constrained by the L1 loss.\n",
        "\n",
        "\n",
        "The L1 distance plays a crucial role in balancing the trade-off between creativity and faithfulness to the training data. A moderate value of Lambda often leads to the most musically pleasing results, preserving the harmonic structure of the input while allowing for stylistic variations and novel musical ideas. Extreme values of Lambda can either result in chaotic or overly repetitive outputs, hindering the musicality of the generated music."
      ]
    },
    {
      "cell_type": "markdown",
      "metadata": {
        "id": "LLxi0zt_HoZF"
      },
      "source": [
        "##### Question 9 [20 points]\n",
        "\n",
        "Please record a 2-5 minute video of yourself explaining questions 1 to 7.\n",
        "\n",
        "If you are shy (or have a bad hairday) you can use filters to augment or cover your face. Please submit it as a public google drive url."
      ]
    }
  ],
  "metadata": {
    "accelerator": "GPU",
    "colab": {
      "gpuType": "T4",
      "provenance": []
    },
    "kernelspec": {
      "display_name": "Python 3",
      "name": "python3"
    },
    "language_info": {
      "codemirror_mode": {
        "name": "ipython",
        "version": 3
      },
      "file_extension": ".py",
      "mimetype": "text/x-python",
      "name": "python",
      "nbconvert_exporter": "python",
      "pygments_lexer": "ipython3",
      "version": "3.7.11"
    }
  },
  "nbformat": 4,
  "nbformat_minor": 0
}
