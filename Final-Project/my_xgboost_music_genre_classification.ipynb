{
  "cells": [
    {
      "cell_type": "code",
      "execution_count": 2,
      "metadata": {
        "colab": {
          "base_uri": "https://localhost:8080/"
        },
        "id": "mAwhubuGdzxl",
        "outputId": "5a46da5f-1941-4872-b64e-b6cf68a66259"
      },
      "outputs": [
        {
          "name": "stdout",
          "output_type": "stream",
          "text": [
            "Drive already mounted at /content/drive; to attempt to forcibly remount, call drive.mount(\"/content/drive\", force_remount=True).\n"
          ]
        }
      ],
      "source": [
        "from google.colab import drive\n",
        "drive.mount('/content/drive')"
      ]
    },
    {
      "cell_type": "code",
      "execution_count": 3,
      "metadata": {
        "id": "1WDSdmYreLbI"
      },
      "outputs": [],
      "source": [
        "import os\n",
        "import numpy as np\n",
        "import librosa\n",
        "import xgboost as xgb\n",
        "from sklearn.preprocessing import StandardScaler"
      ]
    },
    {
      "cell_type": "code",
      "execution_count": null,
      "metadata": {
        "id": "sKFUxPJ_eN4P"
      },
      "outputs": [],
      "source": [
        "MODEL_PATH = \"/content/drive/MyDrive/faysond/music_genre_model3.json\"\n",
        "SCALER_PATH = \"/content/drive/MyDrive/faysond/scaler3.npy\"\n",
        "LABEL_ENCODER_PATH = \"/content/drive/MyDrive/faysond/label_encoder3.npy\"\n",
        "\n",
        "model = xgb.Booster()\n",
        "model.load_model(MODEL_PATH)"
      ]
    },
    {
      "cell_type": "code",
      "execution_count": null,
      "metadata": {
        "id": "-hXHUHc9ePrc"
      },
      "outputs": [],
      "source": [
        "scaler = np.load(SCALER_PATH, allow_pickle=True).item()\n",
        "label_encoder = np.load(LABEL_ENCODER_PATH, allow_pickle=True)"
      ]
    },
    {
      "cell_type": "code",
      "execution_count": null,
      "metadata": {
        "id": "FUTIRKKqeR4X"
      },
      "outputs": [],
      "source": [
        "\n",
        "def extract_features(file_path):\n",
        "    y, sr = librosa.load(file_path, duration=30)  \n",
        "\n",
        "    mfccs = np.mean(librosa.feature.mfcc(y=y, sr=sr, n_mfcc=20).T, axis=0)\n",
        "    chroma = np.mean(librosa.feature.chroma_stft(y=y, sr=sr).T, axis=0)\n",
        "    mel = np.mean(librosa.feature.melspectrogram(y=y, sr=sr).T, axis=0)\n",
        "    contrast = np.mean(librosa.feature.spectral_contrast(y=y, sr=sr).T, axis=0)\n",
        "    tonnetz = np.mean(librosa.feature.tonnetz(y=librosa.effects.harmonic(y), sr=sr).T, axis=0)\n",
        "\n",
        "    return np.hstack([mfccs, chroma, mel, contrast, tonnetz])\n"
      ]
    },
    {
      "cell_type": "code",
      "execution_count": null,
      "metadata": {
        "colab": {
          "base_uri": "https://localhost:8080/"
        },
        "id": "q8F7OQD0eVvV",
        "outputId": "bdd04c99-31db-4aeb-8b15-c79de11411cc"
      },
      "outputs": [
        {
          "name": "stdout",
          "output_type": "stream",
          "text": [
            "/content/drive/MyDrive/faysond/Stephane.wav: hiphop\n",
            "/content/drive/MyDrive/faysond/classical7.wav: classical\n",
            "/content/drive/MyDrive/faysond/hiphop4.wav: hiphop\n"
          ]
        }
      ],
      "source": [
        "\n",
        "test_files = [\"/content/drive/MyDrive/faysond/Stephane.wav\", \"/content/drive/MyDrive/faysond/classical7.wav\", \"/content/drive/MyDrive/faysond/hiphop4.wav\"]\n",
        "\n",
        "for file in test_files:\n",
        "    if not os.path.exists(file):\n",
        "        print(f\" File not found: {file}\")\n",
        "        continue\n",
        "\n",
        "    features = extract_features(file)\n",
        "\n",
        "    features = features.reshape(1, -1)\n",
        "\n",
        "    features_scaled = scaler.transform(features)\n",
        "\n",
        "    dmatrix = xgb.DMatrix(features_scaled)\n",
        "\n",
        "    prediction = model.predict(dmatrix)\n",
        "\n",
        "    predicted_index = int(np.argmax(prediction)) if len(prediction.shape) > 1 else int(prediction[0])\n",
        "\n",
        "    predicted_genre = label_encoder[predicted_index]\n",
        "\n",
        "    print(f\"{file}: {predicted_genre}\")\n"
      ]
    }
  ],
  "metadata": {
    "colab": {
      "provenance": []
    },
    "kernelspec": {
      "display_name": "Python 3",
      "name": "python3"
    },
    "language_info": {
      "name": "python"
    }
  },
  "nbformat": 4,
  "nbformat_minor": 0
}
