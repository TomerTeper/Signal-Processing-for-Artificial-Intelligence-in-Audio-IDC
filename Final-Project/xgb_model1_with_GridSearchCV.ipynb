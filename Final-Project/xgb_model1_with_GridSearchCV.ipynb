{
  "cells": [
    {
      "cell_type": "code",
      "execution_count": null,
      "metadata": {
        "colab": {
          "base_uri": "https://localhost:8080/"
        },
        "id": "KDNlkxYdMWqF",
        "outputId": "e3d00b3d-74dc-40d8-deef-2321b46b4f38"
      },
      "outputs": [
        {
          "name": "stdout",
          "output_type": "stream",
          "text": [
            "Mounted at /content/drive\n"
          ]
        }
      ],
      "source": [
        "from google.colab import drive\n",
        "drive.mount('/content/drive')"
      ]
    },
    {
      "cell_type": "code",
      "execution_count": null,
      "metadata": {
        "id": "TeErlNBpNKZj"
      },
      "outputs": [],
      "source": [
        "import os\n",
        "import numpy as np\n",
        "import pandas as pd\n",
        "import librosa\n",
        "import librosa.display\n",
        "import matplotlib.pyplot as plt\n",
        "import seaborn as sns\n",
        "from sklearn.model_selection import train_test_split\n",
        "from sklearn.preprocessing import StandardScaler, LabelEncoder\n",
        "from sklearn.metrics import accuracy_score, classification_report\n",
        "from xgboost import XGBClassifier, DMatrix, train"
      ]
    },
    {
      "cell_type": "code",
      "execution_count": null,
      "metadata": {
        "id": "hbP3tIogNRHD"
      },
      "outputs": [],
      "source": [
        "DATASET_PATH = \"/content/drive/MyDrive/faysond/genres_original\"\n",
        "genres = os.listdir(DATASET_PATH)\n",
        "\n",
        "def extract_features(file_path):\n",
        "    y, sr = librosa.load(file_path, duration=30)\n",
        "    mfccs = np.mean(librosa.feature.mfcc(y=y, sr=sr, n_mfcc=20).T, axis=0)\n",
        "    chroma = np.mean(librosa.feature.chroma_stft(y=y, sr=sr).T, axis=0)\n",
        "    mel = np.mean(librosa.feature.melspectrogram(y=y, sr=sr).T, axis=0)\n",
        "    contrast = np.mean(librosa.feature.spectral_contrast(y=y, sr=sr).T, axis=0)\n",
        "    tonnetz = np.mean(librosa.feature.tonnetz(y=librosa.effects.harmonic(y), sr=sr).T, axis=0)\n",
        "    return np.hstack([mfccs, chroma, mel, contrast, tonnetz])"
      ]
    },
    {
      "cell_type": "code",
      "execution_count": null,
      "metadata": {
        "colab": {
          "base_uri": "https://localhost:8080/"
        },
        "id": "yvRuSifUNU_m",
        "outputId": "4462490c-9d7a-4706-f546-ad02d3a4b4b2"
      },
      "outputs": [
        {
          "name": "stdout",
          "output_type": "stream",
          "text": [
            "✅ Loaded 100 files from genre: blues\n",
            "✅ Loaded 100 files from genre: classical\n",
            "✅ Loaded 100 files from genre: country\n",
            "✅ Loaded 100 files from genre: disco\n",
            "✅ Loaded 100 files from genre: hiphop\n",
            "✅ Loaded 99 files from genre: jazz\n",
            "✅ Loaded 100 files from genre: pop\n",
            "✅ Loaded 100 files from genre: metal\n",
            "✅ Loaded 100 files from genre: reggae\n",
            "✅ Loaded 100 files from genre: rock\n"
          ]
        }
      ],
      "source": [
        "data = []\n",
        "labels = []\n",
        "\n",
        "for genre in genres:\n",
        "    genre_path = os.path.join(DATASET_PATH, genre)\n",
        "    if not os.path.isdir(genre_path):\n",
        "        continue\n",
        "\n",
        "    file_count = 0\n",
        "    for file in sorted(os.listdir(genre_path))[:100]:\n",
        "        file_path = os.path.join(genre_path, file)\n",
        "        try:\n",
        "            features = extract_features(file_path)\n",
        "            data.append(features)\n",
        "            labels.append(genre)\n",
        "            file_count += 1\n",
        "        except Exception as e:\n",
        "            print(f\"Skipping {file}: {e}\")\n",
        "\n",
        "    print(f\"Loaded {file_count} files from genre: {genre}\")"
      ]
    },
    {
      "cell_type": "code",
      "execution_count": null,
      "metadata": {
        "id": "8oaQGkhoNZKQ"
      },
      "outputs": [],
      "source": [
        "df = pd.DataFrame(data)\n",
        "df[\"genre\"] = labels\n",
        "\n",
        "label_encoder = LabelEncoder()\n",
        "df[\"genre\"] = label_encoder.fit_transform(df[\"genre\"])"
      ]
    },
    {
      "cell_type": "code",
      "execution_count": null,
      "metadata": {
        "id": "W4RrPTZ7Nenw"
      },
      "outputs": [],
      "source": [
        "X = df.drop(columns=[\"genre\"])\n",
        "y = df[\"genre\"]\n",
        "X_train, X_temp, y_train, y_temp = train_test_split(X, y, test_size=0.2, random_state=42, stratify=y)\n",
        "X_val, X_test, y_val, y_test = train_test_split(X_temp, y_temp, test_size=0.5, random_state=42, stratify=y_temp)\n"
      ]
    },
    {
      "cell_type": "code",
      "execution_count": null,
      "metadata": {
        "id": "Oc_J-_A4NgoJ"
      },
      "outputs": [],
      "source": [
        "scaler = StandardScaler()\n",
        "X_train = scaler.fit_transform(X_train)\n",
        "X_val = scaler.transform(X_val)\n",
        "X_test = scaler.transform(X_test)\n",
        "\n",
        "dtrain = DMatrix(X_train, label=y_train)\n",
        "dval = DMatrix(X_val, label=y_val)\n",
        "dtest = DMatrix(X_test, label=y_test)"
      ]
    },
    {
      "cell_type": "code",
      "execution_count": null,
      "metadata": {
        "colab": {
          "base_uri": "https://localhost:8080/"
        },
        "id": "TEdF06b-Ni7G",
        "outputId": "e51de554-3c8d-4e64-e98a-54398225e5b5"
      },
      "outputs": [
        {
          "name": "stdout",
          "output_type": "stream",
          "text": [
            "Starting Training...\n",
            "[0]\ttrain-mlogloss:1.49540\ttrain-merror:0.09011\teval-mlogloss:1.88220\teval-merror:0.44000\n",
            "[1]\ttrain-mlogloss:1.11559\ttrain-merror:0.03504\teval-mlogloss:1.67424\teval-merror:0.42000\n",
            "[2]\ttrain-mlogloss:0.87466\ttrain-merror:0.02128\teval-mlogloss:1.51570\teval-merror:0.38000\n",
            "[3]\ttrain-mlogloss:0.69414\ttrain-merror:0.01627\teval-mlogloss:1.40318\teval-merror:0.34000\n",
            "[4]\ttrain-mlogloss:0.55719\ttrain-merror:0.00375\teval-mlogloss:1.32645\teval-merror:0.35000\n",
            "[5]\ttrain-mlogloss:0.45600\ttrain-merror:0.00250\teval-mlogloss:1.26334\teval-merror:0.34000\n",
            "[6]\ttrain-mlogloss:0.37796\ttrain-merror:0.00125\teval-mlogloss:1.20836\teval-merror:0.33000\n",
            "[7]\ttrain-mlogloss:0.31659\ttrain-merror:0.00125\teval-mlogloss:1.16670\teval-merror:0.30000\n",
            "[8]\ttrain-mlogloss:0.26648\ttrain-merror:0.00125\teval-mlogloss:1.11855\teval-merror:0.29000\n",
            "[9]\ttrain-mlogloss:0.22454\ttrain-merror:0.00125\teval-mlogloss:1.08353\teval-merror:0.28000\n",
            "[10]\ttrain-mlogloss:0.19065\ttrain-merror:0.00125\teval-mlogloss:1.05724\teval-merror:0.26000\n",
            "[11]\ttrain-mlogloss:0.16153\ttrain-merror:0.00125\teval-mlogloss:1.03508\teval-merror:0.27000\n",
            "[12]\ttrain-mlogloss:0.13782\ttrain-merror:0.00125\teval-mlogloss:1.01894\teval-merror:0.28000\n",
            "[13]\ttrain-mlogloss:0.11992\ttrain-merror:0.00125\teval-mlogloss:0.99692\teval-merror:0.27000\n",
            "[14]\ttrain-mlogloss:0.10458\ttrain-merror:0.00125\teval-mlogloss:0.98138\teval-merror:0.28000\n",
            "[15]\ttrain-mlogloss:0.09206\ttrain-merror:0.00125\teval-mlogloss:0.96950\teval-merror:0.29000\n",
            "[16]\ttrain-mlogloss:0.08155\ttrain-merror:0.00125\teval-mlogloss:0.96181\teval-merror:0.28000\n",
            "[17]\ttrain-mlogloss:0.07280\ttrain-merror:0.00125\teval-mlogloss:0.94999\teval-merror:0.26000\n",
            "[18]\ttrain-mlogloss:0.06555\ttrain-merror:0.00125\teval-mlogloss:0.95301\teval-merror:0.27000\n",
            "[19]\ttrain-mlogloss:0.05923\ttrain-merror:0.00125\teval-mlogloss:0.94681\teval-merror:0.27000\n",
            "Training Completed!\n"
          ]
        }
      ],
      "source": [
        "params = {\n",
        "    \"objective\": \"multi:softmax\",\n",
        "    \"num_class\": len(np.unique(y_train)),\n",
        "    \"eval_metric\": [\"mlogloss\", \"merror\"],\n",
        "    \"verbosity\": 2\n",
        "}\n",
        "\n",
        "print(\"Starting Training...\")\n",
        "watchlist = [(dtrain, \"train\"), (dval, \"eval\")]\n",
        "xgb_model = train(params, dtrain, num_boost_round=150, evals=watchlist, early_stopping_rounds=10, verbose_eval=1)\n",
        "print(\"Training Completed!\")"
      ]
    },
    {
      "cell_type": "code",
      "execution_count": null,
      "metadata": {
        "colab": {
          "base_uri": "https://localhost:8080/"
        },
        "id": "sBny_e_CNthj",
        "outputId": "c51caab6-7aff-4d57-bb75-3195ca253724"
      },
      "outputs": [
        {
          "name": "stdout",
          "output_type": "stream",
          "text": [
            "\n",
            "Final Model Accuracy: 71.00%\n"
          ]
        }
      ],
      "source": [
        "y_pred = xgb_model.predict(dtest)\n",
        "accuracy = accuracy_score(y_test, y_pred)\n",
        "print(f\"\\nFinal Model Accuracy: {accuracy * 100:.2f}%\")"
      ]
    },
    {
      "cell_type": "code",
      "execution_count": null,
      "metadata": {
        "colab": {
          "base_uri": "https://localhost:8080/"
        },
        "id": "8sXMVItKNu-y",
        "outputId": "3a765eb6-2aee-4622-ae8a-b0f504ed2667"
      },
      "outputs": [
        {
          "name": "stdout",
          "output_type": "stream",
          "text": [
            "\n",
            "Classification Report:\n",
            "              precision    recall  f1-score   support\n",
            "\n",
            "       blues       0.75      0.60      0.67        10\n",
            "   classical       0.91      1.00      0.95        10\n",
            "     country       0.64      0.70      0.67        10\n",
            "       disco       0.67      0.60      0.63        10\n",
            "      hiphop       0.47      0.70      0.56        10\n",
            "        jazz       0.78      0.70      0.74        10\n",
            "       metal       0.89      0.80      0.84        10\n",
            "         pop       1.00      0.70      0.82        10\n",
            "      reggae       0.78      0.70      0.74        10\n",
            "        rock       0.50      0.60      0.55        10\n",
            "\n",
            "    accuracy                           0.71       100\n",
            "   macro avg       0.74      0.71      0.72       100\n",
            "weighted avg       0.74      0.71      0.72       100\n",
            "\n"
          ]
        }
      ],
      "source": [
        "print(\"\\nClassification Report:\")\n",
        "print(classification_report(y_test, y_pred, target_names=label_encoder.classes_))"
      ]
    },
    {
      "cell_type": "code",
      "execution_count": null,
      "metadata": {
        "id": "nHeD4UHXNzCP"
      },
      "outputs": [],
      "source": [
        "xgb_model.save_model(\"music_genre_model.json\")\n",
        "np.save(\"label_encoder.npy\", label_encoder.classes_)\n",
        "np.save(\"scaler.npy\", scaler)"
      ]
    },
    {
      "cell_type": "code",
      "execution_count": null,
      "metadata": {
        "colab": {
          "base_uri": "https://localhost:8080/"
        },
        "id": "rx5NwQAogO3h",
        "outputId": "cc281426-d385-4494-871b-314e03ecce85"
      },
      "outputs": [
        {
          "name": "stdout",
          "output_type": "stream",
          "text": [
            "Starting Training...\n",
            "[0]\ttrain-mlogloss:1.50296\ttrain-merror:0.09637\teval-mlogloss:1.87435\teval-merror:0.44000\n",
            "[1]\ttrain-mlogloss:1.12303\ttrain-merror:0.04130\teval-mlogloss:1.67067\teval-merror:0.41000\n",
            "[2]\ttrain-mlogloss:0.87629\ttrain-merror:0.02003\teval-mlogloss:1.49953\teval-merror:0.38000\n",
            "[3]\ttrain-mlogloss:0.69408\ttrain-merror:0.01252\teval-mlogloss:1.40077\teval-merror:0.36000\n",
            "[4]\ttrain-mlogloss:0.56491\ttrain-merror:0.00626\teval-mlogloss:1.33196\teval-merror:0.35000\n",
            "[5]\ttrain-mlogloss:0.46689\ttrain-merror:0.00375\teval-mlogloss:1.27750\teval-merror:0.32000\n",
            "[6]\ttrain-mlogloss:0.38592\ttrain-merror:0.00375\teval-mlogloss:1.20347\teval-merror:0.32000\n",
            "[7]\ttrain-mlogloss:0.32291\ttrain-merror:0.00375\teval-mlogloss:1.16955\teval-merror:0.32000\n",
            "[8]\ttrain-mlogloss:0.27375\ttrain-merror:0.00125\teval-mlogloss:1.13408\teval-merror:0.32000\n",
            "[9]\ttrain-mlogloss:0.22993\ttrain-merror:0.00125\teval-mlogloss:1.10305\teval-merror:0.30000\n",
            "[10]\ttrain-mlogloss:0.19502\ttrain-merror:0.00125\teval-mlogloss:1.09060\teval-merror:0.30000\n",
            "[11]\ttrain-mlogloss:0.16751\ttrain-merror:0.00125\teval-mlogloss:1.07010\teval-merror:0.29000\n",
            "[12]\ttrain-mlogloss:0.14344\ttrain-merror:0.00125\teval-mlogloss:1.04627\teval-merror:0.29000\n",
            "[13]\ttrain-mlogloss:0.12460\ttrain-merror:0.00125\teval-mlogloss:1.02431\teval-merror:0.29000\n",
            "[14]\ttrain-mlogloss:0.10883\ttrain-merror:0.00125\teval-mlogloss:1.01144\teval-merror:0.28000\n",
            "[15]\ttrain-mlogloss:0.09639\ttrain-merror:0.00125\teval-mlogloss:1.00444\teval-merror:0.28000\n",
            "[16]\ttrain-mlogloss:0.08597\ttrain-merror:0.00125\teval-mlogloss:0.99282\teval-merror:0.28000\n",
            "[17]\ttrain-mlogloss:0.07700\ttrain-merror:0.00125\teval-mlogloss:0.98758\teval-merror:0.27000\n",
            "[18]\ttrain-mlogloss:0.06954\ttrain-merror:0.00125\teval-mlogloss:0.97975\teval-merror:0.28000\n",
            "[19]\ttrain-mlogloss:0.06319\ttrain-merror:0.00125\teval-mlogloss:0.97283\teval-merror:0.27000\n",
            "[20]\ttrain-mlogloss:0.05779\ttrain-merror:0.00125\teval-mlogloss:0.96959\teval-merror:0.27000\n",
            "[21]\ttrain-mlogloss:0.05354\ttrain-merror:0.00125\teval-mlogloss:0.96506\teval-merror:0.26000\n",
            "[22]\ttrain-mlogloss:0.04979\ttrain-merror:0.00125\teval-mlogloss:0.95716\teval-merror:0.26000\n",
            "[23]\ttrain-mlogloss:0.04638\ttrain-merror:0.00125\teval-mlogloss:0.95377\teval-merror:0.26000\n",
            "[24]\ttrain-mlogloss:0.04353\ttrain-merror:0.00125\teval-mlogloss:0.95001\teval-merror:0.27000\n",
            "[25]\ttrain-mlogloss:0.04096\ttrain-merror:0.00125\teval-mlogloss:0.95329\teval-merror:0.27000\n",
            "[26]\ttrain-mlogloss:0.03877\ttrain-merror:0.00125\teval-mlogloss:0.94917\teval-merror:0.27000\n",
            "[27]\ttrain-mlogloss:0.03672\ttrain-merror:0.00125\teval-mlogloss:0.94920\teval-merror:0.27000\n",
            "[28]\ttrain-mlogloss:0.03497\ttrain-merror:0.00125\teval-mlogloss:0.94075\teval-merror:0.27000\n",
            "[29]\ttrain-mlogloss:0.03341\ttrain-merror:0.00125\teval-mlogloss:0.93357\teval-merror:0.26000\n",
            "[30]\ttrain-mlogloss:0.03196\ttrain-merror:0.00125\teval-mlogloss:0.93553\teval-merror:0.27000\n",
            "Training Completed!\n"
          ]
        }
      ],
      "source": [
        "params = {\n",
        "    \"objective\": \"multi:softmax\",\n",
        "    \"num_class\": len(np.unique(y_train)),\n",
        "    \"eval_metric\": [\"mlogloss\", \"merror\"],\n",
        "    \"verbosity\": 2,\n",
        "    \"reg_alpha\": 0.1,\n",
        "    \"reg_lambda\": 1.0\n",
        "}\n",
        "\n",
        "print(\"Starting Training...\")\n",
        "watchlist = [(dtrain, \"train\"), (dval, \"eval\")]\n",
        "\n",
        "evals_result = {}\n",
        "xgb_model = train(params, dtrain, num_boost_round=150, evals=watchlist,\n",
        "                  early_stopping_rounds=10, verbose_eval=1,\n",
        "                  evals_result=evals_result)\n",
        "print(\"Training Completed!\")\n",
        "\n",
        "results = evals_result"
      ]
    },
    {
      "cell_type": "code",
      "execution_count": null,
      "metadata": {
        "colab": {
          "base_uri": "https://localhost:8080/",
          "height": 957
        },
        "id": "CxvhkSzVN09r",
        "outputId": "9c85e7fe-ce81-44ac-f773-e0568cb53c44"
      },
      "outputs": [
        {
          "data": {
            "image/png": "[encoded data removed]",
            "text/plain": [
              "<Figure size 1000x500 with 1 Axes>"
            ]
          },
          "metadata": {},
          "output_type": "display_data"
        },
        {
          "data": {
            "image/png": "[encoded data removed]",
            "text/plain": [
              "<Figure size 1000x500 with 1 Axes>"
            ]
          },
          "metadata": {},
          "output_type": "display_data"
        }
      ],
      "source": [
        "\n",
        "\n",
        "plt.figure(figsize=(10, 5))\n",
        "plt.plot(results['train']['mlogloss'], label='Train Loss')\n",
        "plt.plot(results['eval']['mlogloss'], label='Validation Loss', linestyle=\"dashed\")\n",
        "plt.xlabel('Epochs')\n",
        "plt.ylabel('Log Loss')\n",
        "plt.legend()\n",
        "plt.title('Training Progress')\n",
        "plt.show()\n",
        "\n",
        "plt.figure(figsize=(10, 5))\n",
        "plt.plot(results['train']['merror'], label='Train Error')\n",
        "plt.plot(results['eval']['merror'], label='Validation Error', linestyle=\"dashed\")\n",
        "plt.xlabel('Epochs')\n",
        "plt.ylabel('Error Rate')\n",
        "plt.legend()\n",
        "plt.title('Error Rate During Training')\n",
        "plt.show()"
      ]
    },
    {
      "cell_type": "code",
      "execution_count": null,
      "metadata": {
        "colab": {
          "base_uri": "https://localhost:8080/"
        },
        "id": "92RnhLBxj87S",
        "outputId": "9ae63f17-ef1b-4fd2-8942-115c1775de65"
      },
      "outputs": [
        {
          "name": "stdout",
          "output_type": "stream",
          "text": [
            "\n",
            "Final Model Accuracy: 74.00%\n"
          ]
        }
      ],
      "source": [
        "# Make predictions\n",
        "y_pred = xgb_model.predict(dtest)\n",
        "accuracy = accuracy_score(y_test, y_pred)\n",
        "print(f\"\\nFinal Model Accuracy: {accuracy * 100:.2f}%\")"
      ]
    },
    {
      "cell_type": "code",
      "execution_count": null,
      "metadata": {
        "id": "TBfe5e-flFt5"
      },
      "outputs": [],
      "source": [
        "from sklearn.model_selection import GridSearchCV\n",
        "\n",
        "param_grid = {\n",
        "    'learning_rate': [0.01, 0.1, 0.2],\n",
        "    'max_depth': [3, 5, 7],\n",
        "    'subsample': [0.8, 0.9, 1.0],\n",
        "    'colsample_bytree': [0.8, 0.9, 1.0],\n",
        "    'reg_alpha': [0.1, 1.0, 10.0],\n",
        "    'reg_lambda': [0.1, 1.0, 10.0]\n",
        "}\n",
        "\n",
        "\n",
        "grid_search = GridSearchCV(estimator=XGBClassifier(**params),\n",
        "                           param_grid=param_grid,\n",
        "                           scoring='accuracy',\n",
        "                           cv=5)\n",
        "\n",
        "grid_search.fit(X_train, y_train)\n",
        "\n",
        "best_params = grid_search.best_params_\n",
        "print(f\"Best Hyperparameters: {best_params}\")\n",
        "\n",
        "xgb_model = XGBClassifier(**params, **best_params)\n",
        "xgb_model.fit(X_train, y_train)"
      ]
    }
  ],
  "metadata": {
    "colab": {
      "provenance": []
    },
    "kernelspec": {
      "display_name": "Python 3",
      "name": "python3"
    },
    "language_info": {
      "name": "python"
    }
  },
  "nbformat": 4,
  "nbformat_minor": 0
}
