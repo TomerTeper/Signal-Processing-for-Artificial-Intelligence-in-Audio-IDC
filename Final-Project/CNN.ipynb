{
  "cells": [
    {
      "cell_type": "code",
      "execution_count": null,
      "metadata": {
        "colab": {
          "base_uri": "https://localhost:8080/"
        },
        "id": "M_kOQlJL5jc4",
        "outputId": "b32d7e21-cad0-4f3d-b995-b30da7dcfeb2"
      },
      "outputs": [
        {
          "name": "stdout",
          "output_type": "stream",
          "text": [
            "Mounted at /content/drive\n"
          ]
        }
      ],
      "source": [
        "from google.colab import drive\n",
        "drive.mount('/content/drive')"
      ]
    },
    {
      "cell_type": "code",
      "execution_count": null,
      "metadata": {
        "id": "zzh1AUF__fvQ"
      },
      "outputs": [],
      "source": [
        "import os\n",
        "import cv2\n",
        "import numpy as np\n",
        "import pandas as pd\n",
        "import tensorflow as tf\n",
        "from tensorflow.keras.models import Sequential\n",
        "from tensorflow.keras.layers import Conv2D, MaxPooling2D, Flatten, Dense, Dropout\n",
        "from sklearn.model_selection import train_test_split\n",
        "from sklearn.preprocessing import LabelEncoder"
      ]
    },
    {
      "cell_type": "code",
      "execution_count": null,
      "metadata": {
        "id": "84TcfcCt_7du"
      },
      "outputs": [],
      "source": [
        "MODEL_PATH = \"cnn_model.h5\"\n",
        "LABEL_ENCODER_PATH = \"label_encoder.npy\"\n",
        "\n",
        "IMAGE_PATH = \"/content/drive/MyDrive/faysond/images_original\"\n",
        "IMG_SIZE = (128, 128)\n",
        "\n",
        "data = []\n",
        "genres = os.listdir(IMAGE_PATH)\n",
        "\n",
        "for genre in genres:\n",
        "    genre_path = os.path.join(IMAGE_PATH, genre)\n",
        "    if not os.path.isdir(genre_path):\n",
        "        continue\n",
        "\n",
        "    for file in os.listdir(genre_path):\n",
        "        file_path = os.path.join(genre_path, file)\n",
        "        try:\n",
        "            img = cv2.imread(file_path, cv2.IMREAD_GRAYSCALE)\n",
        "            img = cv2.resize(img, IMG_SIZE)\n",
        "            data.append([img, genre])\n",
        "        except Exception as e:\n",
        "            print(f\"Skipping {file_path} (Error: {e})\")"
      ]
    },
    {
      "cell_type": "code",
      "execution_count": null,
      "metadata": {
        "id": "k86mBNCnAqX-"
      },
      "outputs": [],
      "source": [
        "df = pd.DataFrame(data, columns=[\"features\", \"genre\"])\n",
        "df[\"features\"] = df[\"features\"].apply(lambda x: np.array(x))\n",
        "encoder = LabelEncoder()\n",
        "df[\"genre\"] = encoder.fit_transform(df[\"genre\"])\n",
        "\n",
        "X = np.stack(df[\"features\"].values)\n",
        "y = df[\"genre\"].values"
      ]
    },
    {
      "cell_type": "code",
      "execution_count": null,
      "metadata": {
        "colab": {
          "base_uri": "https://localhost:8080/"
        },
        "id": "QByG2_GEAuel",
        "outputId": "754344d5-9dc4-46b0-f5e5-073aa71d728e"
      },
      "outputs": [
        {
          "name": "stdout",
          "output_type": "stream",
          "text": [
            " Images successfully loaded!\n",
            " Training set: (799, 128, 128)\n",
            " Validation set: (100, 128, 128)\n",
            " Test set: (100, 128, 128)\n"
          ]
        }
      ],
      "source": [
        "X = X / 255.0\n",
        "\n",
        "X_train, X_temp, y_train, y_temp = train_test_split(X, y, test_size=0.2, random_state=42, stratify=y)\n",
        "X_val, X_test, y_val, y_test = train_test_split(X_temp, y_temp, test_size=0.5, random_state=42, stratify=y_temp)\n",
        "\n",
        "print(f\" Images successfully loaded!\")\n",
        "print(f\" Training set: {X_train.shape}\")\n",
        "print(f\" Validation set: {X_val.shape}\")\n",
        "print(f\" Test set: {X_test.shape}\")\n",
        "\n",
        "X_train = X_train.reshape(-1, 128, 128, 1)\n",
        "X_val = X_val.reshape(-1, 128, 128, 1)\n",
        "X_test = X_test.reshape(-1, 128, 128, 1)"
      ]
    },
    {
      "cell_type": "code",
      "execution_count": null,
      "metadata": {
        "colab": {
          "base_uri": "https://localhost:8080/"
        },
        "id": "hiLfHB52A1cj",
        "outputId": "54363ba9-9dfa-426c-f74a-fd083e919088"
      },
      "outputs": [
        {
          "name": "stderr",
          "output_type": "stream",
          "text": [
            "/usr/local/lib/python3.11/dist-packages/keras/src/layers/convolutional/base_conv.py:107: UserWarning: Do not pass an `input_shape`/`input_dim` argument to a layer. When using Sequential models, prefer using an `Input(shape)` object as the first layer in the model instead.\n",
            "  super().__init__(activity_regularizer=activity_regularizer, **kwargs)\n"
          ]
        }
      ],
      "source": [
        "cnn_model = Sequential([\n",
        "    Conv2D(32, kernel_size=(3,3), activation=\"relu\", input_shape=(128, 128, 1)),\n",
        "    MaxPooling2D(pool_size=(2,2)),\n",
        "    Conv2D(64, kernel_size=(3,3), activation=\"relu\"),\n",
        "    MaxPooling2D(pool_size=(2,2)),\n",
        "    Conv2D(128, kernel_size=(3,3), activation=\"relu\"),\n",
        "    MaxPooling2D(pool_size=(2,2)),\n",
        "    Flatten(),\n",
        "    Dense(128, activation=\"relu\"),\n",
        "    Dropout(0.3),\n",
        "    Dense(len(np.unique(y)), activation=\"softmax\")  \n",
        "])\n"
      ]
    },
    {
      "cell_type": "code",
      "execution_count": null,
      "metadata": {
        "id": "draeultXA4Wu"
      },
      "outputs": [],
      "source": [
        "cnn_model.compile(optimizer=\"adam\", loss=\"sparse_categorical_crossentropy\", metrics=[\"accuracy\"])"
      ]
    },
    {
      "cell_type": "code",
      "execution_count": null,
      "metadata": {
        "colab": {
          "base_uri": "https://localhost:8080/"
        },
        "id": "Q8O96iX9A7V6",
        "outputId": "e29dbe95-2823-45a5-8735-2c7092177350"
      },
      "outputs": [
        {
          "name": "stdout",
          "output_type": "stream",
          "text": [
            "Epoch 1/30\n",
            "\u001b[1m25/25\u001b[0m \u001b[32m━━━━━━━━━━━━━━━━━━━━\u001b[0m\u001b[37m\u001b[0m \u001b[1m33s\u001b[0m 1s/step - accuracy: 0.0843 - loss: 2.3181 - val_accuracy: 0.2600 - val_loss: 2.1502\n",
            "Epoch 2/30\n",
            "\u001b[1m25/25\u001b[0m \u001b[32m━━━━━━━━━━━━━━━━━━━━\u001b[0m\u001b[37m\u001b[0m \u001b[1m40s\u001b[0m 1s/step - accuracy: 0.2261 - loss: 2.1273 - val_accuracy: 0.2700 - val_loss: 1.9475\n",
            "Epoch 3/30\n",
            "\u001b[1m25/25\u001b[0m \u001b[32m━━━━━━━━━━━━━━━━━━━━\u001b[0m\u001b[37m\u001b[0m \u001b[1m40s\u001b[0m 1s/step - accuracy: 0.2927 - loss: 1.9708 - val_accuracy: 0.2500 - val_loss: 1.9126\n",
            "Epoch 4/30\n",
            "\u001b[1m25/25\u001b[0m \u001b[32m━━━━━━━━━━━━━━━━━━━━\u001b[0m\u001b[37m\u001b[0m \u001b[1m28s\u001b[0m 1s/step - accuracy: 0.3513 - loss: 1.8291 - val_accuracy: 0.3200 - val_loss: 1.8081\n",
            "Epoch 5/30\n",
            "\u001b[1m25/25\u001b[0m \u001b[32m━━━━━━━━━━━━━━━━━━━━\u001b[0m\u001b[37m\u001b[0m \u001b[1m30s\u001b[0m 1s/step - accuracy: 0.3800 - loss: 1.7766 - val_accuracy: 0.3900 - val_loss: 1.7459\n",
            "Epoch 6/30\n",
            "\u001b[1m25/25\u001b[0m \u001b[32m━━━━━━━━━━━━━━━━━━━━\u001b[0m\u001b[37m\u001b[0m \u001b[1m40s\u001b[0m 1s/step - accuracy: 0.4267 - loss: 1.6037 - val_accuracy: 0.3900 - val_loss: 1.8139\n",
            "Epoch 7/30\n",
            "\u001b[1m25/25\u001b[0m \u001b[32m━━━━━━━━━━━━━━━━━━━━\u001b[0m\u001b[37m\u001b[0m \u001b[1m30s\u001b[0m 1s/step - accuracy: 0.4726 - loss: 1.5026 - val_accuracy: 0.3700 - val_loss: 1.6131\n",
            "Epoch 8/30\n",
            "\u001b[1m25/25\u001b[0m \u001b[32m━━━━━━━━━━━━━━━━━━━━\u001b[0m\u001b[37m\u001b[0m \u001b[1m38s\u001b[0m 1s/step - accuracy: 0.5448 - loss: 1.3341 - val_accuracy: 0.4100 - val_loss: 1.5655\n",
            "Epoch 9/30\n",
            "\u001b[1m25/25\u001b[0m \u001b[32m━━━━━━━━━━━━━━━━━━━━\u001b[0m\u001b[37m\u001b[0m \u001b[1m28s\u001b[0m 1s/step - accuracy: 0.5865 - loss: 1.2428 - val_accuracy: 0.4800 - val_loss: 1.4383\n",
            "Epoch 10/30\n",
            "\u001b[1m25/25\u001b[0m \u001b[32m━━━━━━━━━━━━━━━━━━━━\u001b[0m\u001b[37m\u001b[0m \u001b[1m42s\u001b[0m 1s/step - accuracy: 0.6330 - loss: 1.0660 - val_accuracy: 0.4500 - val_loss: 1.4919\n",
            "Epoch 11/30\n",
            "\u001b[1m25/25\u001b[0m \u001b[32m━━━━━━━━━━━━━━━━━━━━\u001b[0m\u001b[37m\u001b[0m \u001b[1m39s\u001b[0m 1s/step - accuracy: 0.6139 - loss: 1.0488 - val_accuracy: 0.4900 - val_loss: 1.5250\n",
            "Epoch 12/30\n",
            "\u001b[1m25/25\u001b[0m \u001b[32m━━━━━━━━━━━━━━━━━━━━\u001b[0m\u001b[37m\u001b[0m \u001b[1m39s\u001b[0m 1s/step - accuracy: 0.6980 - loss: 0.8951 - val_accuracy: 0.5200 - val_loss: 1.3413\n",
            "Epoch 13/30\n",
            "\u001b[1m25/25\u001b[0m \u001b[32m━━━━━━━━━━━━━━━━━━━━\u001b[0m\u001b[37m\u001b[0m \u001b[1m30s\u001b[0m 1s/step - accuracy: 0.7468 - loss: 0.7556 - val_accuracy: 0.5000 - val_loss: 1.4726\n",
            "Epoch 14/30\n",
            "\u001b[1m25/25\u001b[0m \u001b[32m━━━━━━━━━━━━━━━━━━━━\u001b[0m\u001b[37m\u001b[0m \u001b[1m39s\u001b[0m 1s/step - accuracy: 0.7346 - loss: 0.7474 - val_accuracy: 0.5500 - val_loss: 1.4132\n",
            "Epoch 15/30\n",
            "\u001b[1m25/25\u001b[0m \u001b[32m━━━━━━━━━━━━━━━━━━━━\u001b[0m\u001b[37m\u001b[0m \u001b[1m42s\u001b[0m 1s/step - accuracy: 0.7848 - loss: 0.6481 - val_accuracy: 0.5400 - val_loss: 1.3743\n",
            "Epoch 16/30\n",
            "\u001b[1m25/25\u001b[0m \u001b[32m━━━━━━━━━━━━━━━━━━━━\u001b[0m\u001b[37m\u001b[0m \u001b[1m33s\u001b[0m 1s/step - accuracy: 0.8015 - loss: 0.5630 - val_accuracy: 0.5400 - val_loss: 1.3934\n",
            "Epoch 17/30\n",
            "\u001b[1m25/25\u001b[0m \u001b[32m━━━━━━━━━━━━━━━━━━━━\u001b[0m\u001b[37m\u001b[0m \u001b[1m27s\u001b[0m 1s/step - accuracy: 0.8002 - loss: 0.5974 - val_accuracy: 0.6100 - val_loss: 1.4181\n",
            "Epoch 18/30\n",
            "\u001b[1m25/25\u001b[0m \u001b[32m━━━━━━━━━━━━━━━━━━━━\u001b[0m\u001b[37m\u001b[0m \u001b[1m29s\u001b[0m 1s/step - accuracy: 0.8673 - loss: 0.4428 - val_accuracy: 0.5300 - val_loss: 1.4036\n",
            "Epoch 19/30\n",
            "\u001b[1m25/25\u001b[0m \u001b[32m━━━━━━━━━━━━━━━━━━━━\u001b[0m\u001b[37m\u001b[0m \u001b[1m41s\u001b[0m 1s/step - accuracy: 0.8988 - loss: 0.3386 - val_accuracy: 0.5600 - val_loss: 1.4598\n",
            "Epoch 20/30\n",
            "\u001b[1m25/25\u001b[0m \u001b[32m━━━━━━━━━━━━━━━━━━━━\u001b[0m\u001b[37m\u001b[0m \u001b[1m42s\u001b[0m 1s/step - accuracy: 0.8978 - loss: 0.3046 - val_accuracy: 0.5400 - val_loss: 1.5993\n",
            "Epoch 21/30\n",
            "\u001b[1m25/25\u001b[0m \u001b[32m━━━━━━━━━━━━━━━━━━━━\u001b[0m\u001b[37m\u001b[0m \u001b[1m41s\u001b[0m 1s/step - accuracy: 0.9102 - loss: 0.2889 - val_accuracy: 0.5400 - val_loss: 1.7094\n",
            "Epoch 22/30\n",
            "\u001b[1m25/25\u001b[0m \u001b[32m━━━━━━━━━━━━━━━━━━━━\u001b[0m\u001b[37m\u001b[0m \u001b[1m28s\u001b[0m 1s/step - accuracy: 0.9099 - loss: 0.2773 - val_accuracy: 0.5300 - val_loss: 1.6820\n",
            "Epoch 23/30\n",
            "\u001b[1m25/25\u001b[0m \u001b[32m━━━━━━━━━━━━━━━━━━━━\u001b[0m\u001b[37m\u001b[0m \u001b[1m40s\u001b[0m 1s/step - accuracy: 0.9187 - loss: 0.2130 - val_accuracy: 0.5700 - val_loss: 1.6913\n",
            "Epoch 24/30\n",
            "\u001b[1m25/25\u001b[0m \u001b[32m━━━━━━━━━━━━━━━━━━━━\u001b[0m\u001b[37m\u001b[0m \u001b[1m41s\u001b[0m 1s/step - accuracy: 0.9464 - loss: 0.1567 - val_accuracy: 0.5100 - val_loss: 1.7748\n",
            "Epoch 25/30\n",
            "\u001b[1m25/25\u001b[0m \u001b[32m━━━━━━━━━━━━━━━━━━━━\u001b[0m\u001b[37m\u001b[0m \u001b[1m39s\u001b[0m 1s/step - accuracy: 0.9519 - loss: 0.1642 - val_accuracy: 0.5900 - val_loss: 1.6110\n",
            "Epoch 26/30\n",
            "\u001b[1m25/25\u001b[0m \u001b[32m━━━━━━━━━━━━━━━━━━━━\u001b[0m\u001b[37m\u001b[0m \u001b[1m28s\u001b[0m 1s/step - accuracy: 0.9378 - loss: 0.1778 - val_accuracy: 0.5800 - val_loss: 1.8341\n",
            "Epoch 27/30\n",
            "\u001b[1m25/25\u001b[0m \u001b[32m━━━━━━━━━━━━━━━━━━━━\u001b[0m\u001b[37m\u001b[0m \u001b[1m28s\u001b[0m 1s/step - accuracy: 0.9654 - loss: 0.1365 - val_accuracy: 0.5800 - val_loss: 2.0144\n",
            "Epoch 28/30\n",
            "\u001b[1m25/25\u001b[0m \u001b[32m━━━━━━━━━━━━━━━━━━━━\u001b[0m\u001b[37m\u001b[0m \u001b[1m41s\u001b[0m 1s/step - accuracy: 0.9451 - loss: 0.1505 - val_accuracy: 0.5800 - val_loss: 2.0730\n",
            "Epoch 29/30\n",
            "\u001b[1m25/25\u001b[0m \u001b[32m━━━━━━━━━━━━━━━━━━━━\u001b[0m\u001b[37m\u001b[0m \u001b[1m40s\u001b[0m 1s/step - accuracy: 0.9529 - loss: 0.1186 - val_accuracy: 0.5700 - val_loss: 2.0296\n",
            "Epoch 30/30\n",
            "\u001b[1m25/25\u001b[0m \u001b[32m━━━━━━━━━━━━━━━━━━━━\u001b[0m\u001b[37m\u001b[0m \u001b[1m42s\u001b[0m 1s/step - accuracy: 0.9639 - loss: 0.1025 - val_accuracy: 0.5600 - val_loss: 1.9273\n"
          ]
        },
        {
          "data": {
            "text/plain": [
              "<keras.src.callbacks.history.History at 0x7fcb302de3d0>"
            ]
          },
          "execution_count": 9,
          "metadata": {},
          "output_type": "execute_result"
        }
      ],
      "source": [
        "cnn_model.fit(X_train, y_train, epochs=30, batch_size=32, validation_data=(X_val, y_val))"
      ]
    },
    {
      "cell_type": "code",
      "execution_count": null,
      "metadata": {
        "colab": {
          "base_uri": "https://localhost:8080/"
        },
        "id": "sRLmgg6LHTfn",
        "outputId": "1c9c1832-fc56-412c-fc5b-4efc2d40b0a7"
      },
      "outputs": [
        {
          "name": "stdout",
          "output_type": "stream",
          "text": [
            "Epoch 1/18\n",
            "\u001b[1m25/25\u001b[0m \u001b[32m━━━━━━━━━━━━━━━━━━━━\u001b[0m\u001b[37m\u001b[0m \u001b[1m30s\u001b[0m 1s/step - accuracy: 0.9691 - loss: 0.1082 - val_accuracy: 0.5600 - val_loss: 2.2249\n",
            "Epoch 2/18\n",
            "\u001b[1m25/25\u001b[0m \u001b[32m━━━━━━━━━━━━━━━━━━━━\u001b[0m\u001b[37m\u001b[0m \u001b[1m40s\u001b[0m 1s/step - accuracy: 0.9614 - loss: 0.1165 - val_accuracy: 0.5500 - val_loss: 2.1299\n",
            "Epoch 3/18\n",
            "\u001b[1m25/25\u001b[0m \u001b[32m━━━━━━━━━━━━━━━━━━━━\u001b[0m\u001b[37m\u001b[0m \u001b[1m40s\u001b[0m 1s/step - accuracy: 0.9694 - loss: 0.0916 - val_accuracy: 0.5400 - val_loss: 2.1171\n",
            "Epoch 4/18\n",
            "\u001b[1m25/25\u001b[0m \u001b[32m━━━━━━━━━━━━━━━━━━━━\u001b[0m\u001b[37m\u001b[0m \u001b[1m41s\u001b[0m 1s/step - accuracy: 0.9529 - loss: 0.1164 - val_accuracy: 0.5100 - val_loss: 2.0401\n",
            "Epoch 5/18\n",
            "\u001b[1m25/25\u001b[0m \u001b[32m━━━━━━━━━━━━━━━━━━━━\u001b[0m\u001b[37m\u001b[0m \u001b[1m39s\u001b[0m 1s/step - accuracy: 0.9718 - loss: 0.0965 - val_accuracy: 0.5300 - val_loss: 2.4966\n",
            "Epoch 6/18\n",
            "\u001b[1m25/25\u001b[0m \u001b[32m━━━━━━━━━━━━━━━━━━━━\u001b[0m\u001b[37m\u001b[0m \u001b[1m42s\u001b[0m 1s/step - accuracy: 0.9708 - loss: 0.0832 - val_accuracy: 0.5700 - val_loss: 1.9900\n",
            "Epoch 7/18\n",
            "\u001b[1m25/25\u001b[0m \u001b[32m━━━━━━━━━━━━━━━━━━━━\u001b[0m\u001b[37m\u001b[0m \u001b[1m40s\u001b[0m 1s/step - accuracy: 0.9536 - loss: 0.1470 - val_accuracy: 0.5900 - val_loss: 2.2999\n",
            "Epoch 8/18\n",
            "\u001b[1m25/25\u001b[0m \u001b[32m━━━━━━━━━━━━━━━━━━━━\u001b[0m\u001b[37m\u001b[0m \u001b[1m28s\u001b[0m 1s/step - accuracy: 0.9734 - loss: 0.0868 - val_accuracy: 0.5800 - val_loss: 2.1907\n",
            "Epoch 9/18\n",
            "\u001b[1m25/25\u001b[0m \u001b[32m━━━━━━━━━━━━━━━━━━━━\u001b[0m\u001b[37m\u001b[0m \u001b[1m42s\u001b[0m 1s/step - accuracy: 0.9775 - loss: 0.0645 - val_accuracy: 0.5500 - val_loss: 2.2210\n",
            "Epoch 10/18\n",
            "\u001b[1m25/25\u001b[0m \u001b[32m━━━━━━━━━━━━━━━━━━━━\u001b[0m\u001b[37m\u001b[0m \u001b[1m40s\u001b[0m 1s/step - accuracy: 0.9896 - loss: 0.0585 - val_accuracy: 0.5600 - val_loss: 2.2089\n",
            "Epoch 11/18\n",
            "\u001b[1m25/25\u001b[0m \u001b[32m━━━━━━━━━━━━━━━━━━━━\u001b[0m\u001b[37m\u001b[0m \u001b[1m41s\u001b[0m 1s/step - accuracy: 0.9759 - loss: 0.0667 - val_accuracy: 0.5800 - val_loss: 2.3543\n",
            "Epoch 12/18\n",
            "\u001b[1m25/25\u001b[0m \u001b[32m━━━━━━━━━━━━━━━━━━━━\u001b[0m\u001b[37m\u001b[0m \u001b[1m40s\u001b[0m 1s/step - accuracy: 0.9745 - loss: 0.0652 - val_accuracy: 0.5100 - val_loss: 2.5048\n",
            "Epoch 13/18\n",
            "\u001b[1m25/25\u001b[0m \u001b[32m━━━━━━━━━━━━━━━━━━━━\u001b[0m\u001b[37m\u001b[0m \u001b[1m41s\u001b[0m 1s/step - accuracy: 0.9820 - loss: 0.0535 - val_accuracy: 0.5800 - val_loss: 2.2109\n",
            "Epoch 14/18\n",
            "\u001b[1m25/25\u001b[0m \u001b[32m━━━━━━━━━━━━━━━━━━━━\u001b[0m\u001b[37m\u001b[0m \u001b[1m42s\u001b[0m 1s/step - accuracy: 0.9750 - loss: 0.0733 - val_accuracy: 0.5500 - val_loss: 2.4673\n",
            "Epoch 15/18\n",
            "\u001b[1m25/25\u001b[0m \u001b[32m━━━━━━━━━━━━━━━━━━━━\u001b[0m\u001b[37m\u001b[0m \u001b[1m39s\u001b[0m 1s/step - accuracy: 0.9772 - loss: 0.0701 - val_accuracy: 0.5500 - val_loss: 2.2588\n",
            "Epoch 16/18\n",
            "\u001b[1m25/25\u001b[0m \u001b[32m━━━━━━━━━━━━━━━━━━━━\u001b[0m\u001b[37m\u001b[0m \u001b[1m42s\u001b[0m 1s/step - accuracy: 0.9809 - loss: 0.0609 - val_accuracy: 0.5400 - val_loss: 2.6643\n",
            "Epoch 17/18\n",
            "\u001b[1m25/25\u001b[0m \u001b[32m━━━━━━━━━━━━━━━━━━━━\u001b[0m\u001b[37m\u001b[0m \u001b[1m39s\u001b[0m 1s/step - accuracy: 0.9931 - loss: 0.0269 - val_accuracy: 0.5500 - val_loss: 2.6529\n",
            "Epoch 18/18\n",
            "\u001b[1m25/25\u001b[0m \u001b[32m━━━━━━━━━━━━━━━━━━━━\u001b[0m\u001b[37m\u001b[0m \u001b[1m40s\u001b[0m 1s/step - accuracy: 0.9865 - loss: 0.0469 - val_accuracy: 0.5400 - val_loss: 2.5151\n"
          ]
        },
        {
          "data": {
            "text/plain": [
              "<keras.src.callbacks.history.History at 0x7fcb32a29810>"
            ]
          },
          "execution_count": 13,
          "metadata": {},
          "output_type": "execute_result"
        }
      ],
      "source": [
        "cnn_model.fit(X_train, y_train, epochs=17, batch_size=32, validation_data=(X_val, y_val))"
      ]
    },
    {
      "cell_type": "code",
      "execution_count": null,
      "metadata": {
        "colab": {
          "base_uri": "https://localhost:8080/"
        },
        "id": "XVn49FPEA-t7",
        "outputId": "74d91acb-c803-4852-b001-abe3b711a50d"
      },
      "outputs": [
        {
          "name": "stdout",
          "output_type": "stream",
          "text": [
            "\u001b[1m4/4\u001b[0m \u001b[32m━━━━━━━━━━━━━━━━━━━━\u001b[0m\u001b[37m\u001b[0m \u001b[1m1s\u001b[0m 167ms/step - accuracy: 0.6214 - loss: 1.3634\n",
            "\n",
            " CNN Model Accuracy: 59.00%\n"
          ]
        }
      ],
      "source": [
        "loss, cnn_accuracy = cnn_model.evaluate(X_test, y_test)\n",
        "print(f\"\\n CNN Model Accuracy: {cnn_accuracy * 100:.2f}%\")"
      ]
    },
    {
      "cell_type": "code",
      "execution_count": null,
      "metadata": {
        "colab": {
          "base_uri": "https://localhost:8080/"
        },
        "id": "B7qvoetwBA6W",
        "outputId": "b8f430af-0064-4411-c218-4ab168750262"
      },
      "outputs": [
        {
          "name": "stderr",
          "output_type": "stream",
          "text": [
            "WARNING:absl:You are saving your model as an HDF5 file via `model.save()` or `keras.saving.save_model(model)`. This file format is considered legacy. We recommend using instead the native Keras format, e.g. `model.save('my_model.keras')` or `keras.saving.save_model(model, 'my_model.keras')`. \n"
          ]
        },
        {
          "name": "stdout",
          "output_type": "stream",
          "text": [
            " Model saved as cnn_model.h5\n"
          ]
        }
      ],
      "source": [
        "cnn_model.save(MODEL_PATH)\n",
        "print(f\" Model saved as {MODEL_PATH}\")"
      ]
    },
    {
      "cell_type": "code",
      "execution_count": null,
      "metadata": {
        "colab": {
          "base_uri": "https://localhost:8080/"
        },
        "id": "Ae8VSoqvBDFQ",
        "outputId": "8d8e09d9-2fc7-45bf-b2c2-5ea0b7407f15"
      },
      "outputs": [
        {
          "name": "stdout",
          "output_type": "stream",
          "text": [
            " Label encoder saved as label_encoder.npy\n"
          ]
        }
      ],
      "source": [
        "np.save(LABEL_ENCODER_PATH, encoder.classes_)\n",
        "print(f\" Label encoder saved as {LABEL_ENCODER_PATH}\")"
      ]
    }
  ],
  "metadata": {
    "colab": {
      "provenance": []
    },
    "kernelspec": {
      "display_name": "Python 3",
      "name": "python3"
    },
    "language_info": {
      "name": "python"
    }
  },
  "nbformat": 4,
  "nbformat_minor": 0
}
